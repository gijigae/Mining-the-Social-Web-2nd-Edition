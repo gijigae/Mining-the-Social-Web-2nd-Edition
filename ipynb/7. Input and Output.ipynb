{
 "metadata": {
  "name": ""
 },
 "nbformat": 3,
 "nbformat_minor": 0,
 "worksheets": [
  {
   "cells": [
    {
     "cell_type": "markdown",
     "metadata": {},
     "source": [
      "There are several ways to present the output of a program; data can be printed in a human-readable form, or written to a file for future use. This chapter will discuss some of the possibilities.\n",
      "\n",
      "7.1. Fancier Output Formatting\n",
      "===\n",
      "So far we\u2019ve encountered two ways of writing values: expression statements and the `print` statement. (A third way is using the `write()` method of file objects; the standard output file can be referenced as `sys.stdout`. See the Library Reference for more information on this.)\n",
      "\n",
      "Often you\u2019ll want more control over the formatting of your output than simply printing space-separated values. There are two ways to format your output; the first way is to do all the string handling yourself; using string slicing and concatenation operations you can create any layout you can imagine. The string types have some methods that perform useful operations for padding strings to a given column width; these will be discussed shortly. The second way is to use the `str.format()` method.\n",
      "\n",
      "The `string` module contains a `Template` class which offers yet another way to substitute values into strings.\n",
      "\n",
      "One question remains, of course: how do you convert values to strings? Luckily, Python has ways to convert any value to a string: pass it to the `repr()` or `str()` functions.\n",
      "\n",
      "The `str()` function is meant to return representations of values which are fairly human-readable, while `repr()` is meant to generate representations which can be read by the interpreter (or will force a `SyntaxError` if there is no equivalent syntax). For objects which don\u2019t have a particular representation for human consumption, `str()` will return the same value as repr(). Many values, such as numbers or structures like lists and dictionaries, have the same representation using either function. Strings and floating point numbers, in particular, have two distinct representations.\n",
      "\n",
      "Some examples:"
     ]
    },
    {
     "cell_type": "code",
     "collapsed": false,
     "input": [
      "s = 'Hello, world.'\n",
      "str(s)"
     ],
     "language": "python",
     "metadata": {},
     "outputs": [
      {
       "metadata": {},
       "output_type": "pyout",
       "prompt_number": 1,
       "text": [
        "'Hello, world.'"
       ]
      }
     ],
     "prompt_number": 1
    },
    {
     "cell_type": "code",
     "collapsed": false,
     "input": [
      "repr(s)"
     ],
     "language": "python",
     "metadata": {},
     "outputs": [
      {
       "metadata": {},
       "output_type": "pyout",
       "prompt_number": 2,
       "text": [
        "\"'Hello, world.'\""
       ]
      }
     ],
     "prompt_number": 2
    },
    {
     "cell_type": "code",
     "collapsed": false,
     "input": [
      "str(1.0/7.0)"
     ],
     "language": "python",
     "metadata": {},
     "outputs": [
      {
       "metadata": {},
       "output_type": "pyout",
       "prompt_number": 3,
       "text": [
        "'0.142857142857'"
       ]
      }
     ],
     "prompt_number": 3
    },
    {
     "cell_type": "code",
     "collapsed": false,
     "input": [
      "repr(1.0/7.0)"
     ],
     "language": "python",
     "metadata": {},
     "outputs": [
      {
       "metadata": {},
       "output_type": "pyout",
       "prompt_number": 4,
       "text": [
        "'0.14285714285714285'"
       ]
      }
     ],
     "prompt_number": 4
    },
    {
     "cell_type": "code",
     "collapsed": false,
     "input": [
      "x = 10 * 3.25\n",
      "y = 200 * 200\n",
      "s = 'The value of x is ' + repr(x) + ', and y is ' + repr(y) + '...'\n",
      "print s"
     ],
     "language": "python",
     "metadata": {},
     "outputs": [
      {
       "output_type": "stream",
       "stream": "stdout",
       "text": [
        "The value of x is 32.5, and y is 40000...\n"
       ]
      }
     ],
     "prompt_number": 7
    },
    {
     "cell_type": "code",
     "collapsed": false,
     "input": [
      "# The repr() of a string adds string quotes and backslashes:\n",
      "hello = 'hello, world\\n'\n",
      "hellos = repr(hello)\n",
      "print hellos"
     ],
     "language": "python",
     "metadata": {},
     "outputs": [
      {
       "output_type": "stream",
       "stream": "stdout",
       "text": [
        "'hello, world\\n'\n"
       ]
      }
     ],
     "prompt_number": 8
    },
    {
     "cell_type": "code",
     "collapsed": false,
     "input": [
      "# The argument to repr() may be any Python object:\n",
      "repr((x, y, ('spam', 'eggs')))"
     ],
     "language": "python",
     "metadata": {},
     "outputs": [
      {
       "metadata": {},
       "output_type": "pyout",
       "prompt_number": 10,
       "text": [
        "\"(32.5, 40000, ('spam', 'eggs'))\""
       ]
      }
     ],
     "prompt_number": 10
    },
    {
     "cell_type": "markdown",
     "metadata": {},
     "source": [
      "Here are two ways to write a table of squares and cubes:"
     ]
    },
    {
     "cell_type": "code",
     "collapsed": false,
     "input": [
      "for x in range(1, 11):\n",
      "    print repr(x).rjust(2), repr(x*x).rjust(3),\n",
      "    # Note trailing comma on previous line\n",
      "    print repr(x*x*x).rjust(4)"
     ],
     "language": "python",
     "metadata": {},
     "outputs": [
      {
       "output_type": "stream",
       "stream": "stdout",
       "text": [
        " 1   1    1\n",
        " 2   4    8\n",
        " 3   9   27\n",
        " 4  16   64\n",
        " 5  25  125\n",
        " 6  36  216\n",
        " 7  49  343\n",
        " 8  64  512\n",
        " 9  81  729\n",
        "10 100 1000\n"
       ]
      }
     ],
     "prompt_number": 11
    },
    {
     "cell_type": "code",
     "collapsed": false,
     "input": [
      "for x in range(1, 11):\n",
      "    print '{0:2d} {1:3d} {2:4d}'.format(x, x*x, x*x*x)"
     ],
     "language": "python",
     "metadata": {},
     "outputs": [
      {
       "output_type": "stream",
       "stream": "stdout",
       "text": [
        " 1   1    1\n",
        " 2   4    8\n",
        " 3   9   27\n",
        " 4  16   64\n",
        " 5  25  125\n",
        " 6  36  216\n",
        " 7  49  343\n",
        " 8  64  512\n",
        " 9  81  729\n",
        "10 100 1000\n"
       ]
      }
     ],
     "prompt_number": 12
    },
    {
     "cell_type": "markdown",
     "metadata": {},
     "source": [
      "(Note that in the first example, one space between each column was added by the way `print` works: it always adds spaces between its arguments.)\n",
      "\n",
      "This example demonstrates the `str.rjust()` method of string objects, which right-justifies a string in a field of a given width by padding it with spaces on the left. There are similar methods `str.ljust()` and `str.center()`. These methods do not write anything, they just return a new string. If the input string is too long, they don\u2019t truncate it, but return it unchanged; this will mess up your column lay-out but that\u2019s usually better than the alternative, which would be lying about a value. (If you really want truncation you can always add a slice operation, as in `x.ljust(n)[:n]`.)\n",
      "\n",
      "There is another method, `str.zfill()`, which pads a numeric string on the left with zeros. It understands about plus and minus signs:"
     ]
    },
    {
     "cell_type": "code",
     "collapsed": false,
     "input": [
      "'12'.zfill(5)"
     ],
     "language": "python",
     "metadata": {},
     "outputs": [
      {
       "metadata": {},
       "output_type": "pyout",
       "prompt_number": 13,
       "text": [
        "'00012'"
       ]
      }
     ],
     "prompt_number": 13
    },
    {
     "cell_type": "code",
     "collapsed": false,
     "input": [
      "'-3.14'.zfill(7)"
     ],
     "language": "python",
     "metadata": {},
     "outputs": [
      {
       "metadata": {},
       "output_type": "pyout",
       "prompt_number": 14,
       "text": [
        "'-003.14'"
       ]
      }
     ],
     "prompt_number": 14
    },
    {
     "cell_type": "code",
     "collapsed": false,
     "input": [
      "'3.14159265359'.zfill(5)"
     ],
     "language": "python",
     "metadata": {},
     "outputs": [
      {
       "metadata": {},
       "output_type": "pyout",
       "prompt_number": 15,
       "text": [
        "'3.14159265359'"
       ]
      }
     ],
     "prompt_number": 15
    },
    {
     "cell_type": "markdown",
     "metadata": {},
     "source": [
      "Basic usage of the `str.format()` method looks like this:"
     ]
    },
    {
     "cell_type": "code",
     "collapsed": false,
     "input": [
      "print 'We are the {} who say \"{}!\"'.format('khights', 'Ni')"
     ],
     "language": "python",
     "metadata": {},
     "outputs": [
      {
       "output_type": "stream",
       "stream": "stdout",
       "text": [
        "We are the khights who say \"Ni!\"\n"
       ]
      }
     ],
     "prompt_number": 16
    },
    {
     "cell_type": "markdown",
     "metadata": {},
     "source": [
      "The brackets and characters within them (called format fields) are replaced with the objects passed into the `str.format()` method. A number in the brackets refers to the position of the object passed into the `str.format()` method."
     ]
    },
    {
     "cell_type": "code",
     "collapsed": false,
     "input": [
      "print '{0} and {1}'.format('spam', 'egges')"
     ],
     "language": "python",
     "metadata": {},
     "outputs": [
      {
       "output_type": "stream",
       "stream": "stdout",
       "text": [
        "spam and egges\n"
       ]
      }
     ],
     "prompt_number": 17
    },
    {
     "cell_type": "code",
     "collapsed": false,
     "input": [
      "print '{1} and {0}'.format('spam', 'egges')"
     ],
     "language": "python",
     "metadata": {},
     "outputs": [
      {
       "output_type": "stream",
       "stream": "stdout",
       "text": [
        "egges and spam\n"
       ]
      }
     ],
     "prompt_number": 18
    },
    {
     "cell_type": "markdown",
     "metadata": {},
     "source": [
      "If keyword arguments are used in the `str.format()` method, their values are referred to by using the name of the argument."
     ]
    },
    {
     "cell_type": "code",
     "collapsed": false,
     "input": [
      "print 'This {food} is {adjective}'.format(\n",
      "                                          food='spam', \n",
      "                                          adjective='absolutely horrible')"
     ],
     "language": "python",
     "metadata": {},
     "outputs": [
      {
       "output_type": "stream",
       "stream": "stdout",
       "text": [
        "This spam is absolutely horrible\n"
       ]
      }
     ],
     "prompt_number": 20
    },
    {
     "cell_type": "markdown",
     "metadata": {},
     "source": [
      "Positional and keyword arguments can be arbitrarily combined:"
     ]
    },
    {
     "cell_type": "code",
     "collapsed": false,
     "input": [
      "print 'The story of {0}, {1}, and {other}'.format(\n",
      "                                                  'Bill', 'Mangred',\n",
      "                                                  other = 'Georg')"
     ],
     "language": "python",
     "metadata": {},
     "outputs": [
      {
       "output_type": "stream",
       "stream": "stdout",
       "text": [
        "The story of Bill, Mangred, and Georg\n"
       ]
      }
     ],
     "prompt_number": 21
    },
    {
     "cell_type": "markdown",
     "metadata": {},
     "source": [
      "`'!s'` (apply `str()`) and `'!r'` (apply `repr()`) can be used to convert the value before it is formatted."
     ]
    },
    {
     "cell_type": "code",
     "collapsed": false,
     "input": [
      "import math\n",
      "print 'The value of PI is approximately {}.'.format(math.pi)"
     ],
     "language": "python",
     "metadata": {},
     "outputs": [
      {
       "output_type": "stream",
       "stream": "stdout",
       "text": [
        "The value of PI is approximately 3.14159265359.\n"
       ]
      }
     ],
     "prompt_number": 22
    },
    {
     "cell_type": "code",
     "collapsed": false,
     "input": [
      "print 'The value of PI is approximaely {!r}.'.format(math.pi)"
     ],
     "language": "python",
     "metadata": {},
     "outputs": [
      {
       "output_type": "stream",
       "stream": "stdout",
       "text": [
        "The value of PI is approximaely 3.141592653589793.\n"
       ]
      }
     ],
     "prompt_number": 23
    },
    {
     "cell_type": "markdown",
     "metadata": {},
     "source": [
      "An optional `':'` and format specifier can follow the field name. This allows greater control over how the value is formatted. The following example rounds Pi to three places after the decimal."
     ]
    },
    {
     "cell_type": "code",
     "collapsed": false,
     "input": [
      "import math\n",
      "print 'The value of PI is approriximately {0:.3f}.'.format(math.pi)"
     ],
     "language": "python",
     "metadata": {},
     "outputs": [
      {
       "output_type": "stream",
       "stream": "stdout",
       "text": [
        "The value of PI is approriximately 3.142.\n"
       ]
      }
     ],
     "prompt_number": 25
    },
    {
     "cell_type": "markdown",
     "metadata": {},
     "source": [
      "Passing an integer after the ':' will cause that field to be a minimum number of characters wide. This is useful for making tables pretty."
     ]
    },
    {
     "cell_type": "code",
     "collapsed": false,
     "input": [
      "table = {'Sjoerd': 4127, 'Jack': 4098, 'Dcab': 7678}\n",
      "for name, phone in table.items():\n",
      "    print '{0:10} ==> {1:10}'.format(name, phone)"
     ],
     "language": "python",
     "metadata": {},
     "outputs": [
      {
       "output_type": "stream",
       "stream": "stdout",
       "text": [
        "Dcab       ==>       7678\n",
        "Jack       ==>       4098\n",
        "Sjoerd     ==>       4127\n"
       ]
      }
     ],
     "prompt_number": 28
    },
    {
     "cell_type": "markdown",
     "metadata": {},
     "source": [
      "If you have a really long format string that you don\u2019t want to split up, it would be nice if you could reference the variables to be formatted by name instead of by position. This can be done by simply passing the dict and using square brackets '[]' to access the keys"
     ]
    },
    {
     "cell_type": "code",
     "collapsed": false,
     "input": [
      "table = {'Sjoerd': 4127, 'Jack': 4098, 'Dcab': 8637678}\n",
      "print('Jack: {0[Jack]:d}; Sjored: {0[Sjoerd]:d}; '\n",
      "      'Dcab: {0[Dcab]:d}'.format(table))"
     ],
     "language": "python",
     "metadata": {},
     "outputs": [
      {
       "output_type": "stream",
       "stream": "stdout",
       "text": [
        "Jack: 4098; Sjored: 4127; Dcab: 8637678\n"
       ]
      }
     ],
     "prompt_number": 30
    },
    {
     "cell_type": "markdown",
     "metadata": {},
     "source": [
      "This could also be done by passing the table as keyword arguments with the `\u2018**\u2019` notation."
     ]
    },
    {
     "cell_type": "code",
     "collapsed": false,
     "input": [
      "table = {'Sjoerd': 4127, 'Jack': 4098, 'Dcab': 8637678}\n",
      "print 'Jack: {Jack:d}; Sjoerd: {Sjoerd:d}; Dcab: {Dcab:d}'.format(**table)"
     ],
     "language": "python",
     "metadata": {},
     "outputs": [
      {
       "output_type": "stream",
       "stream": "stdout",
       "text": [
        "Jack: 4098; Sjoerd: 4127; Dcab: 8637678\n"
       ]
      }
     ],
     "prompt_number": 32
    },
    {
     "cell_type": "markdown",
     "metadata": {},
     "source": [
      "This is particularly useful in combination with the built-in function `vars()`, which returns a dictionary containing all local variables.\n",
      "\n",
      "For a complete overview of string formatting with `str.format()`, see [Format String Syntax](http://docs.python.org/2/library/string.html#formatstrings).\n",
      "\n",
      "7.1.1. Old string formatting\n",
      "---\n",
      "The % operator can also be used for string formatting. It interprets the left argument much like a `sprintf()`-style format string to be applied to the right argument, and returns the string resulting from this formatting operation. For example:"
     ]
    },
    {
     "cell_type": "code",
     "collapsed": false,
     "input": [
      "import math\n",
      "print 'The value of PI is approximately %5.3f.' % math.pi"
     ],
     "language": "python",
     "metadata": {},
     "outputs": [
      {
       "output_type": "stream",
       "stream": "stdout",
       "text": [
        "The value of PI is approximately 3.142.\n"
       ]
      }
     ],
     "prompt_number": 33
    },
    {
     "cell_type": "markdown",
     "metadata": {},
     "source": [
      "More information can be found in the [String Formatting Operations](http://docs.python.org/2/library/stdtypes.html#string-formatting) section.\n",
      "\n",
      "7.2. Reading and Writing Files\n",
      "===\n",
      "`open()` returns a file object, and is most commonly used with two arguments: `open(filename, mode)`."
     ]
    },
    {
     "cell_type": "code",
     "collapsed": false,
     "input": [
      "f = open('workfile', 'w')\n",
      "print f"
     ],
     "language": "python",
     "metadata": {},
     "outputs": [
      {
       "output_type": "stream",
       "stream": "stdout",
       "text": [
        "<open file 'workfile', mode 'w' at 0x3436b70>\n"
       ]
      }
     ],
     "prompt_number": 34
    },
    {
     "cell_type": "markdown",
     "metadata": {},
     "source": [
      "The first argument is a string containing the filename. The second argument is another string containing a few characters describing the way in which the file will be used. mode can be `'r'` when the file will only be read, `'w'` for only writing (an existing file with the same name will be erased), and `'a'` opens the file for appending; any data written to the file is automatically added to the end. `'r+'` opens the file for both reading and writing. The mode argument is optional; `'r'` will be assumed if it\u2019s omitted.\n",
      "\n",
      "On Windows, `'b'` appended to the mode opens the file in binary mode, so there are also modes like `'rb'`, `'wb'`, and `'r+b'`. Python on Windows makes a distinction between text and binary files; the end-of-line characters in text files are automatically altered slightly when data is read or written. This behind-the-scenes modification to file data is fine for ASCII text files, but it\u2019ll corrupt binary data like that in `JPEG` or `EXE` files. Be very careful to use binary mode when reading and writing such files. On Unix, it doesn\u2019t hurt to append a `'b'` to the mode, so you can use it platform-independently for all binary files.\n",
      "\n",
      "7.2.1. Methods of File Objects\n",
      "---\n",
      "The rest of the examples in this section will assume that a file object called f has already been created.\n",
      "\n",
      "To read a file\u2019s contents, call `f.read(size)`, which reads some quantity of data and returns it as a string. _size_ is an optional numeric argument. When _size_ is omitted or negative, the entire contents of the file will be read and returned; it\u2019s your problem if the file is twice as large as your machine\u2019s memory. Otherwise, at most _size_ bytes are read and returned. If the end of the file has been reached, `f.read()` will return an empty string (`\"\"`)."
     ]
    },
    {
     "cell_type": "code",
     "collapsed": false,
     "input": [],
     "language": "python",
     "metadata": {},
     "outputs": []
    }
   ],
   "metadata": {}
  }
 ]
}