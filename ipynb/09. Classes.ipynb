{
 "metadata": {
  "name": ""
 },
 "nbformat": 3,
 "nbformat_minor": 0,
 "worksheets": [
  {
   "cells": [
    {
     "cell_type": "markdown",
     "metadata": {},
     "source": [
      "Compared with other programming languages, Python\u2019s class mechanism adds classes with a minimum of new syntax and semantics. It is a mixture of the class mechanisms found in C++ and Modula-3. Python classes provide all the standard features of Object Oriented Programming: the class inheritance mechanism allows multiple base classes, a derived class can override any methods of its base class or classes, and a method can call the method of a base class with the same name. Objects can contain arbitrary amounts and kinds of data. As is true for modules, classes partake of the dynamic nature of Python: they are created at runtime, and can be modified further after creation.\n",
      "\n",
      "In C++ terminology, normally class members (including the data members) are public (except see below [Private Variables and Class-local References](http://docs.python.org/2/tutorial/classes.html#tut-private)), and all member functions are _virtual_. As in Modula-3, there are no shorthands for referencing the object\u2019s members from its methods: the method function is declared with an explicit first argument representing the object, which is provided implicitly by the call. As in Smalltalk, classes themselves are objects. This provides semantics for importing and renaming. Unlike C++ and Modula-3, built-in types can be used as base classes for extension by the user. Also, like in C++, most built-in operators with special syntax (arithmetic operators, subscripting etc.) can be redefined for class instances.\n",
      "\n",
      "(Lacking universally accepted terminology to talk about classes, I will make occasional use of Smalltalk and C++ terms. I would use Modula-3 terms, since its object-oriented semantics are closer to those of Python than C++, but I expect that few readers have heard of it.)\n",
      "\n",
      "9.1. A Word About Names and Objects\n",
      "===\n",
      "Objects have individuality, and multiple names (in multiple scopes) can be bound to the same object. This is known as aliasing in other languages. This is usually not appreciated on a first glance at Python, and can be safely ignored when dealing with immutable basic types (numbers, strings, tuples). However, aliasing has a possibly surprising effect on the semantics of Python code involving mutable objects such as lists, dictionaries, and most other types. This is usually used to the benefit of the program, since aliases behave like pointers in some respects. For example, passing an object is cheap since only a pointer is passed by the implementation; and if a function modifies an object passed as an argument, the caller will see the change \u2014 this eliminates the need for two different argument passing mechanisms as in Pascal.\n",
      "\n",
      "9.2. Python Scopes and Namespaces\n",
      "===\n",
      "Before introducing classes, I first have to tell you something about Python\u2019s scope rules. Class definitions play some neat tricks with namespaces, and you need to know how scopes and namespaces work to fully understand what\u2019s going on. Incidentally, knowledge about this subject is useful for any advanced Python programmer.\n",
      "\n",
      "Let\u2019s begin with some definitions.\n",
      "\n",
      "A namespace is a mapping from names to objects. Most namespaces are currently implemented as Python dictionaries, but that\u2019s normally not noticeable in any way (except for performance), and it may change in the future. Examples of namespaces are: the set of built-in names (containing functions such as [abs()](http://docs.python.org/2/library/functions.html#abs), and built-in exception names); the global names in a module; and the local names in a function invocation. In a sense the set of attributes of an object also form a namespace. The important thing to know about namespaces is that there is absolutely no relation between names in different namespaces; for instance, two different modules may both define a function `maximize` without confusion \u2014 users of the modules must prefix it with the module name.\n",
      "\n",
      "By the way, I use the word _attribute_ for any name following a dot \u2014 for example, in the expression `z.real`, `real` is an attribute of the object `z`. Strictly speaking, references to names in modules are attribute references: in the expression `modname.funcname`, `modname` is a module object and `funcname` is an attribute of it. In this case there happens to be a straightforward mapping between the module\u2019s attributes and the global names defined in the module: they share the same namespace! [1]\n",
      "\n",
      "Attributes may be read-only or writable. In the latter case, assignment to attributes is possible. Module attributes are writable: you can write `modname.the_answer = 42`. Writable attributes may also be deleted with the [del](http://docs.python.org/2/reference/simple_stmts.html#del) statement. For example, `del modname.the_answer` will remove the attribute `the_answer` from the object named by `modname`.\n",
      "\n",
      "Namespaces are created at different moments and have different lifetimes. The namespace containing the built-in names is created when the Python interpreter starts up, and is never deleted. The global namespace for a module is created when the module definition is read in; normally, module namespaces also last until the interpreter quits. The statements executed by the top-level invocation of the interpreter, either read from a script file or interactively, are considered part of a module called [`__main__`](http://docs.python.org/2/library/__main__.html#module-__main__), so they have their own global namespace. (The built-in names actually also live in a module; this is called [`__builtin__`](http://docs.python.org/2/library/__builtin__.html#module-__builtin__).)\n",
      "\n",
      "The local namespace for a function is created when the function is called, and deleted when the function returns or raises an exception that is not handled within the function. (Actually, forgetting would be a better way to describe what actually happens.) Of course, recursive invocations each have their own local namespace.\n",
      "\n",
      "A _scope_ is a textual region of a Python program where a namespace is directly accessible. \u201cDirectly accessible\u201d here means that an unqualified reference to a name attempts to find the name in the namespace.\n",
      "\n",
      "Although scopes are determined statically, they are used dynamically. At any time during execution, there are at least three nested scopes whose namespaces are directly accessible:\n",
      "\n",
      "* the innermost scope, which is searched first, contains the local names\n",
      "* the scopes of any enclosing functions, which are searched starting with the nearest enclosing scope, contains non-local, but also non-global names\n",
      "* the next-to-last scope contains the current module\u2019s global names\n",
      "* the outermost scope (searched last) is the namespace containing built-in names\n",
      "\n",
      "If a name is declared global, then all references and assignments go directly to the middle scope containing the module\u2019s global names. Otherwise, all variables found outside of the innermost scope are read-only (an attempt to write to such a variable will simply create a _new_ local variable in the innermost scope, leaving the identically named outer variable unchanged).\n",
      "\n",
      "Usually, the local scope references the local names of the (textually) current function. Outside functions, the local scope references the same namespace as the global scope: the module\u2019s namespace. Class definitions place yet another namespace in the local scope.\n",
      "\n",
      "It is important to realize that scopes are determined textually: the global scope of a function defined in a module is that module\u2019s namespace, no matter from where or by what alias the function is called. On the other hand, the actual search for names is done dynamically, at run time \u2014 however, the language definition is evolving towards static name resolution, at \u201ccompile\u201d time, so don\u2019t rely on dynamic name resolution! (In fact, local variables are already determined statically.)\n",
      "\n",
      "A special quirk of Python is that \u2013 if no [global](http://docs.python.org/2/reference/simple_stmts.html#global) statement is in effect \u2013 assignments to names always go into the innermost scope. Assignments do not copy data \u2014 they just bind names to objects. The same is true for deletions: the statement `del x` removes the binding of `x` from the namespace referenced by the local scope. In fact, all operations that introduce new names use the local scope: in particular, [import](http://docs.python.org/2/reference/simple_stmts.html#import) statements and function definitions bind the module or function name in the local scope. (The global statement can be used to indicate that particular variables live in the [global](http://docs.python.org/2/reference/simple_stmts.html#global) scope.)\n",
      "\n",
      "9.3. A First Look at Classes\n",
      "===\n",
      "Classes introduce a little bit of new syntax, three new object types, and some new semantics.\n",
      "\n",
      "9.3.1. Class Definition Syntax\n",
      "---\n",
      "The simplest form of class definition looks like this:\n",
      "\n",
      "\n",
      "\n"
     ]
    },
    {
     "cell_type": "code",
     "collapsed": false,
     "input": [
      "class ClassName:\n",
      "    <statement-1>\n",
      "    .\n",
      "    .\n",
      "    .\n",
      "    <statement-N>"
     ],
     "language": "python",
     "metadata": {},
     "outputs": []
    },
    {
     "cell_type": "markdown",
     "metadata": {},
     "source": [
      "Class definitions, like function definitions ([def](http://docs.python.org/2/reference/compound_stmts.html#def) statements) must be executed before they have any effect. (You could conceivably place a class definition in a branch of an [if](http://docs.python.org/2/reference/compound_stmts.html#if) statement, or inside a function.)\n",
      "\n",
      "In practice, the statements inside a class definition will usually be function definitions, but other statements are allowed, and sometimes useful \u2014 we\u2019ll come back to this later. The function definitions inside a class normally have a peculiar form of argument list, dictated by the calling conventions for methods \u2014 again, this is explained later.\n",
      "\n",
      "When a class definition is entered, a new namespace is created, and used as the local scope \u2014 thus, all assignments to local variables go into this new namespace. In particular, function definitions bind the name of the new function here.\n",
      "\n",
      "When a class definition is left normally (via the end), a _class object_ is created. This is basically a wrapper around the contents of the namespace created by the class definition; we\u2019ll learn more about class objects in the next section. The original local scope (the one in effect just before the class definition was entered) is reinstated, and the class object is bound here to the class name given in the class definition header (**ClassName** in the example).\n",
      "\n",
      "9.3.2. Class Objects\n",
      "---\n",
      "Class objects support two kinds of operations: attribute references and instantiation.\n",
      "\n",
      "_Attribute references_ use the standard syntax used for all attribute references in Python: `obj.name`. Valid attribute names are all the names that were in the class\u2019s namespace when the class object was created. So, if the class definition looked like this:"
     ]
    },
    {
     "cell_type": "code",
     "collapsed": false,
     "input": [
      "class MyClass:\n",
      "    \"\"\" A simple example class \"\"\"\n",
      "    i = 12345\n",
      "    def f(self):\n",
      "        return 'hello world'"
     ],
     "language": "python",
     "metadata": {},
     "outputs": [],
     "prompt_number": 3
    },
    {
     "cell_type": "markdown",
     "metadata": {},
     "source": [
      "then `MyClass.i` and `MyClass.f` are valid attribute references, returning an integer and a function object, respectively. Class attributes can also be assigned to, so you can change the value of `MyClass.i` by assignment. `__doc__` is also a valid attribute, returning the docstring belonging to the class: `\"A simple example class\"`.\n",
      "\n",
      "Class instantiation uses function notation. Just pretend that the class object is a parameterless function that returns a new instance of the class. For example (assuming the above class):"
     ]
    },
    {
     "cell_type": "code",
     "collapsed": false,
     "input": [
      "x = MyClass()\n",
      "x.i"
     ],
     "language": "python",
     "metadata": {},
     "outputs": [
      {
       "metadata": {},
       "output_type": "pyout",
       "prompt_number": 4,
       "text": [
        "12345"
       ]
      }
     ],
     "prompt_number": 4
    },
    {
     "cell_type": "markdown",
     "metadata": {},
     "source": [
      "creates a new instance of the class and assigns this object to the local variable `x`.\n",
      "\n",
      "The instantiation operation (\u201ccalling\u201d a class object) creates an empty object. Many classes like to create objects with instances customized to a specific initial state. Therefore a class may define a special method named `__init__()`, like this:"
     ]
    },
    {
     "cell_type": "code",
     "collapsed": false,
     "input": [
      "def __init__(self):\n",
      "    self.data = []"
     ],
     "language": "python",
     "metadata": {},
     "outputs": [],
     "prompt_number": 5
    },
    {
     "cell_type": "markdown",
     "metadata": {},
     "source": [
      "When a class defines an `__init__()` method, class instantiation automatically invokes `__init__()` for the newly-created class instance. So in this example, a new, initialized instance can be obtained by:"
     ]
    },
    {
     "cell_type": "code",
     "collapsed": false,
     "input": [
      "x = MyClass()\n",
      "x.i"
     ],
     "language": "python",
     "metadata": {},
     "outputs": [
      {
       "metadata": {},
       "output_type": "pyout",
       "prompt_number": 6,
       "text": [
        "12345"
       ]
      }
     ],
     "prompt_number": 6
    },
    {
     "cell_type": "markdown",
     "metadata": {},
     "source": [
      "Of course, the `__init__()` method may have arguments for greater flexibility. In that case, arguments given to the class instantiation operator are passed on to `__init__()`. For example,"
     ]
    },
    {
     "cell_type": "code",
     "collapsed": false,
     "input": [
      "class Complex:\n",
      "    def __init__(self, realpart, imagpart):\n",
      "        self.r = realpart\n",
      "        self.i = imagpart\n",
      "        \n",
      "x = Complex(3.0, -4.5)\n",
      "x.r, x.i"
     ],
     "language": "python",
     "metadata": {},
     "outputs": [
      {
       "metadata": {},
       "output_type": "pyout",
       "prompt_number": 1,
       "text": [
        "(3.0, -4.5)"
       ]
      }
     ],
     "prompt_number": 1
    },
    {
     "cell_type": "markdown",
     "metadata": {},
     "source": [
      "9.3.3. Instance Objects\n",
      "---\n",
      "Now what can we do with instance objects? The only operations understood by instance objects are attribute references. There are two kinds of valid attribute names, data attributes and methods.\n",
      "\n",
      "_data attributes_ correspond to \u201cinstance variables\u201d in Smalltalk, and to \u201cdata members\u201d in C++. Data attributes need not be declared; like local variables, they spring into existence when they are first assigned to. For example, if `x` is the instance of **MyClass** created above, the following piece of code will print the value 16, without leaving a trace:"
     ]
    },
    {
     "cell_type": "code",
     "collapsed": false,
     "input": [
      "x.counter = 1\n",
      "while x.counter < 10:\n",
      "    x.counter = x.counter * 2\n",
      "print x.counter\n",
      "del x.counter"
     ],
     "language": "python",
     "metadata": {},
     "outputs": [
      {
       "output_type": "stream",
       "stream": "stdout",
       "text": [
        "16\n"
       ]
      }
     ],
     "prompt_number": 7
    },
    {
     "cell_type": "markdown",
     "metadata": {},
     "source": [
      "The other kind of instance attribute reference is a _method_. A method is a function that \u201cbelongs to\u201d an object. (In Python, the term method is not unique to class instances: other object types can have methods as well. For example, list objects have methods called append, insert, remove, sort, and so on. However, in the following discussion, we\u2019ll use the term method exclusively to mean methods of class instance objects, unless explicitly stated otherwise.)\n",
      "\n",
      "Valid method names of an instance object depend on its class. By definition, all attributes of a class that are function objects define corresponding methods of its instances. So in our example, `x.f` is a valid method reference, since `MyClass.f` is a function, but `x.i` is not, since `MyClass.i` is not. But `x.f` is not the same thing as `MyClass.f` \u2014 it is a method object, not a function object.\n",
      "\n",
      "9.3.4. Method Objects\n",
      "---\n",
      "Usually, a method is called right after it is bound:"
     ]
    },
    {
     "cell_type": "code",
     "collapsed": false,
     "input": [
      "x.f()"
     ],
     "language": "python",
     "metadata": {},
     "outputs": [
      {
       "metadata": {},
       "output_type": "pyout",
       "prompt_number": 8,
       "text": [
        "'hello world'"
       ]
      }
     ],
     "prompt_number": 8
    },
    {
     "cell_type": "markdown",
     "metadata": {},
     "source": [
      "In the **MyClass** example, this will return the string 'hello world'. However, it is not necessary to call a method right away: x.f is a method object, and can be stored away and called at a later time. For example:"
     ]
    },
    {
     "cell_type": "code",
     "collapsed": false,
     "input": [
      "xf = x.f\n",
      "#while True:\n",
      "#    print xf()\n",
      "print xf()"
     ],
     "language": "python",
     "metadata": {},
     "outputs": [
      {
       "output_type": "stream",
       "stream": "stdout",
       "text": [
        "hello world\n"
       ]
      }
     ],
     "prompt_number": 9
    },
    {
     "cell_type": "markdown",
     "metadata": {},
     "source": [
      "will continue to print `hello world` until the end of time.\n",
      "\n",
      "What exactly happens when a method is called? You may have noticed that `x.f()` was called without an argument above, even though the function definition for `f()` specified an argument. What happened to the argument? Surely Python raises an exception when a function that requires an argument is called without any \u2014 even if the argument isn\u2019t actually used...\n",
      "\n",
      "Actually, you may have guessed the answer: the special thing about methods is that the object is passed as the first argument of the function. In our example, the call `x.f()` is exactly equivalent to `MyClass.f(x)`. In general, calling a method with a list of _n_ arguments is equivalent to calling the corresponding function with an argument list that is created by inserting the method\u2019s object before the first argument.\n",
      "\n",
      "If you still don\u2019t understand how methods work, a look at the implementation can perhaps clarify matters. When an instance attribute is referenced that isn\u2019t a data attribute, its class is searched. If the name denotes a valid class attribute that is a function object, a method object is created by packing (pointers to) the instance object and the function object just found together in an abstract object: this is the method object. When the method object is called with an argument list, a new argument list is constructed from the instance object and the argument list, and the function object is called with this new argument list.\n",
      "\n",
      "9.4. Random Remarks\n",
      "===\n",
      "Data attributes override method attributes with the same name; to avoid accidental name conflicts, which may cause hard-to-find bugs in large programs, it is wise to use some kind of convention that minimizes the chance of conflicts. Possible conventions include capitalizing method names, prefixing data attribute names with a small unique string (perhaps just an underscore), or using verbs for methods and nouns for data attributes.\n",
      "\n",
      "Data attributes may be referenced by methods as well as by ordinary users (\u201cclients\u201d) of an object. In other words, classes are not usable to implement pure abstract data types. In fact, nothing in Python makes it possible to enforce data hiding \u2014 it is all based upon convention. (On the other hand, the Python implementation, written in C, can completely hide implementation details and control access to an object if necessary; this can be used by extensions to Python written in C.)\n",
      "\n",
      "Clients should use data attributes with care \u2014 clients may mess up invariants maintained by the methods by stamping on their data attributes. Note that clients may add data attributes of their own to an instance object without affecting the validity of the methods, as long as name conflicts are avoided \u2014 again, a naming convention can save a lot of headaches here.\n",
      "\n",
      "There is no shorthand for referencing data attributes (or other methods!) from within methods. I find that this actually increases the readability of methods: there is no chance of confusing local variables and instance variables when glancing through a method.\n",
      "\n",
      "Often, the first argument of a method is called `self`. This is nothing more than a convention: the name `self` has absolutely no special meaning to Python. Note, however, that by not following the convention your code may be less readable to other Python programmers, and it is also conceivable that a _class_ browser program might be written that relies upon such a convention.\n",
      "\n",
      "Any function object that is a class attribute defines a method for instances of that class. It is not necessary that the function definition is textually enclosed in the class definition: assigning a function object to a local variable in the class is also ok. For example:"
     ]
    },
    {
     "cell_type": "code",
     "collapsed": false,
     "input": [
      "# Function defined outside the class\n",
      "def f1(self, x, y):\n",
      "    return min(x, x+y)\n",
      "\n",
      "class C:\n",
      "    f = f1\n",
      "    def g(self):\n",
      "        return 'hello world'\n",
      "    h = g\n",
      "\n",
      "x = C()\n",
      "f2 = x.f\n",
      "f2(10, 11)"
     ],
     "language": "python",
     "metadata": {},
     "outputs": [
      {
       "metadata": {},
       "output_type": "pyout",
       "prompt_number": 14,
       "text": [
        "10"
       ]
      }
     ],
     "prompt_number": 14
    },
    {
     "cell_type": "markdown",
     "metadata": {},
     "source": [
      "Now `f`, `g` and `h` are all attributes of class C that refer to function objects, and consequently they are all methods of instances of C \u2014 h being exactly equivalent to g. **Note** that this practice usually only serves to confuse the reader of a program.\n",
      "\n",
      "Methods may call other methods by using method attributes of the `self` argument:"
     ]
    },
    {
     "cell_type": "code",
     "collapsed": false,
     "input": [
      "class Bag:\n",
      "    def __init__(self):\n",
      "        self.data = []\n",
      "        \n",
      "    def add(self, x):\n",
      "        self.data.append(x)\n",
      "    \n",
      "    def addtwice(self, x):\n",
      "        self.add(x)\n",
      "        self.add(x)\n",
      "\n",
      "x = Bag()\n",
      "f3 = x.add(3)\n",
      "x.addtwice(10)\n",
      "x.data"
     ],
     "language": "python",
     "metadata": {},
     "outputs": [
      {
       "metadata": {},
       "output_type": "pyout",
       "prompt_number": 17,
       "text": [
        "[3, 10, 10]"
       ]
      }
     ],
     "prompt_number": 17
    },
    {
     "cell_type": "markdown",
     "metadata": {},
     "source": [
      "Methods may reference global names in the same way as ordinary functions. The global scope associated with a method is the module containing its definition. (A class is never used as a global scope.) While one rarely encounters a good reason for using global data in a method, there are many legitimate uses of the global scope: for one thing, functions and modules imported into the global scope can be used by methods, as well as functions and classes defined in it. Usually, the class containing the method is itself defined in this global scope, and in the next section we\u2019ll find some good reasons why a method would want to reference its own class.\n",
      "\n",
      "Each value is an object, and therefore has a _class_ (also called its _type_). It is stored as `object.__class__`.\n",
      "\n",
      "9.5. Inheritance\n",
      "===\n",
      "Of course, a language feature would not be worthy of the name \u201cclass\u201d without supporting inheritance. The syntax for a derived class definition looks like this:"
     ]
    },
    {
     "cell_type": "code",
     "collapsed": false,
     "input": [
      "class DerivedClassName(BaseClassName):\n",
      "    # <statement-1>\n",
      "    # .\n",
      "    # .\n",
      "    # .\n",
      "    # <statement-N>"
     ],
     "language": "python",
     "metadata": {},
     "outputs": []
    },
    {
     "cell_type": "markdown",
     "metadata": {},
     "source": [
      "The name `BaseClassName` must be defined in a scope containing the derived class definition. In place of a base class name, other arbitrary expressions are also allowed. This can be useful, for example, when the base class is defined in another module:"
     ]
    },
    {
     "cell_type": "code",
     "collapsed": false,
     "input": [
      "class DerivedClassName(modname.BaseClassNmae):"
     ],
     "language": "python",
     "metadata": {},
     "outputs": []
    },
    {
     "cell_type": "markdown",
     "metadata": {},
     "source": [
      "Execution of a derived class definition proceeds the same as for a base class. When the class object is constructed, the base class is remembered. This is used for resolving attribute references: if a requested attribute is not found in the class, the search proceeds to look in the base class. This rule is applied recursively if the base class itself is derived from some other class.\n",
      "\n",
      "There\u2019s nothing special about instantiation of derived classes: `DerivedClassName()` creates a new instance of the class. Method references are resolved as follows: the corresponding class attribute is searched, descending down the chain of base classes if necessary, and the method reference is valid if this yields a function object.\n",
      "\n",
      "Derived classes may override methods of their base classes. Because methods have no special privileges when calling other methods of the same object, a method of a base class that calls another method defined in the same base class may end up calling a method of a derived class that overrides it. (For C++ programmers: all methods in Python are effectively `virtual`.)\n",
      "\n",
      "An overriding method in a derived class may in fact want to extend rather than simply replace the base class method of the same name. There is a simple way to call the base class method directly: just call `BaseClassName.methodname(self, arguments)`. This is occasionally useful to clients as well. (Note that this only works if the base class is accessible as `BaseClassName` in the global scope.)\n",
      "\n",
      "Python has two built-in functions that work with inheritance:\n",
      "\n",
      "* Use `isinstance()` to check an instance\u2019s type: `isinstance(obj, int)` will be True only if `obj.__class__` is [int](http://docs.python.org/2/library/functions.html#int) or some class derived from [int](http://docs.python.org/2/library/functions.html#int).\n",
      "* Use `issubclass()` to check class inheritance: `issubclass(bool, int)` is True since bool is a subclass of [int](http://docs.python.org/2/library/functions.html#int). However, `issubclass(unicode, str)` is False since [unicode](http://docs.python.org/2/library/functions.html#unicode) is not a subclass of [str](http://docs.python.org/2/library/functions.html#str) (they only share a common ancestor, [basestring](http://docs.python.org/2/library/functions.html#basestring)).\n",
      "\n",
      "9.5.1. Multiple Inheritance\n",
      "---\n",
      "Python supports a limited form of multiple inheritance as well. A class definition with multiple base classes looks like this:"
     ]
    },
    {
     "cell_type": "code",
     "collapsed": false,
     "input": [
      "class DerivedClassName(Base1, Base2, Base3):\n",
      "    # <statement-1>\n",
      "    # .\n",
      "    # .\n",
      "    # .\n",
      "    # <statement-N>"
     ],
     "language": "python",
     "metadata": {},
     "outputs": []
    },
    {
     "cell_type": "markdown",
     "metadata": {},
     "source": [
      "For old-style classes, the only rule is depth-first, left-to-right. Thus, if an attribute is not found in `DerivedClassName`, it is searched in `Base1`, then (recursively) in the base classes of `Base1`, and only if it is not found there, it is searched in `Base2`, and so on.\n",
      "\n",
      "(To some people breadth first \u2014 searching `Base2` and `Base3` before the base classes of `Base1` \u2014 looks more natural. However, this would require you to know whether a particular attribute of `Base1` is actually defined in `Base1` or in one of its base classes before you can figure out the consequences of a name conflict with an attribute of `Base2`. The depth-first rule makes no differences between direct and inherited attributes of `Base1`.)\n",
      "\n",
      "For [_new-style classes_](http://docs.python.org/2/glossary.html#term-new-style-class), the method resolution order changes dynamically to support cooperative calls to [super()](http://docs.python.org/2/library/functions.html#super). This approach is known in some other multiple-inheritance languages as call-next-method and is more powerful than the super call found in single-inheritance languages.\n",
      "\n",
      "With new-style classes, dynamic ordering is necessary because all cases of multiple inheritance exhibit one or more diamond relationships (where at least one of the parent classes can be accessed through multiple paths from the bottommost class). For example, all new-style classes inherit from [object](http://docs.python.org/2/library/functions.html#object), so any case of multiple inheritance provides more than one path to reach [object](http://docs.python.org/2/library/functions.html#object). To keep the base classes from being accessed more than once, the dynamic algorithm linearizes the search order in a way that preserves the left-to-right ordering specified in each class, that calls each parent only once, and that is monotonic (meaning that a class can be subclassed without affecting the precedence order of its parents). Taken together, these properties make it possible to design reliable and extensible classes with multiple inheritance. For more detail, see http://www.python.org/download/releases/2.3/mro/.\n",
      "\n",
      "9.6. Private Variables and Class-local References\n",
      "===\n",
      "\u201cPrivate\u201d instance variables that cannot be accessed except from inside an object don\u2019t exist in Python. However, there is a convention that is followed by most Python code: a name prefixed with an underscore (e.g. `_spam`) should be treated as a non-public part of the API (whether it is a function, a method or a data member). It should be considered an implementation detail and subject to change without notice.\n",
      "\n",
      "Since there is a valid use-case for class-private members (namely to avoid name clashes of names with names defined by subclasses), there is limited support for such a mechanism, called _name mangling_. Any identifier of the form `__spam` (at least two leading underscores, at most one trailing underscore) is textually replaced with `_classname__spam`, where classname is the current class name with leading underscore(s) stripped. This mangling is done without regard to the syntactic position of the identifier, as long as it occurs within the definition of a class.\n",
      "\n",
      "Name mangling is helpful for letting subclasses override methods without breaking intraclass method calls. For example:"
     ]
    },
    {
     "cell_type": "code",
     "collapsed": false,
     "input": [
      "class Mapping:\n",
      "    def __init__(self, iterable):\n",
      "        self.items_list = []\n",
      "        self.__update(iterable)\n",
      "        \n",
      "    def update(self, iterable):\n",
      "        for item in iterable:\n",
      "            self.items_list.append(item)\n",
      "            \n",
      "    __update = update # private copy of original update() method\n",
      "    \n",
      "class MappingSubclass(Mapping):\n",
      "    def update(self, keys, values):\n",
      "        # provides new signature for update()\n",
      "        # but does not break __init__()\n",
      "        for item in zip(keys, values):\n",
      "            self.items_list.append(item)\n"
     ],
     "language": "python",
     "metadata": {},
     "outputs": []
    },
    {
     "cell_type": "markdown",
     "metadata": {},
     "source": [
      "**Note** that the mangling rules are designed mostly to avoid accidents; it still is possible to access or modify a variable that is considered private. This can even be useful in special circumstances, such as in the debugger.\n",
      "\n",
      "Notice that code passed to `exec`, `eval()` or `execfile()` does not consider the classname of the invoking class to be the current class; this is similar to the effect of the `global` statement, the effect of which is likewise restricted to code that is byte-compiled together. The same restriction applies to `getattr()`, `setattr()` and `delattr()`, as well as when referencing `__dict__` directly.\n",
      "\n",
      "9.7. Odds and Ends\n",
      "===\n",
      "Sometimes it is useful to have a data type similar to the Pascal \u201crecord\u201d or C \u201cstruct\u201d, bundling together a few named data items. An empty class definition will do nicely:"
     ]
    },
    {
     "cell_type": "code",
     "collapsed": false,
     "input": [
      "class Employee:\n",
      "    pass\n",
      "\n",
      "john = Employee() # Create an empty employee record\n",
      "john.name = 'John Doe'\n",
      "john.dept = 'computer lab'\n",
      "john.salary = 1000\n",
      "print john.name"
     ],
     "language": "python",
     "metadata": {},
     "outputs": [
      {
       "output_type": "stream",
       "stream": "stdout",
       "text": [
        "John Doe\n"
       ]
      }
     ],
     "prompt_number": 19
    },
    {
     "cell_type": "markdown",
     "metadata": {},
     "source": [
      "A piece of Python code that expects a particular abstract data type can often be passed a class that emulates the methods of that data type instead. For instance, if you have a function that formats some data from a file object, you can define a class with methods `read()` and `readline()` that get the data from a string buffer instead, and pass it as an argument.\n",
      "\n",
      "Instance method objects have attributes, too: `m.im_self` is the instance object with the method `m()`, and `m.im_func` is the function object corresponding to the method.\n",
      "\n",
      "9.8. Exceptions Are Classes Too\n",
      "===\n",
      "User-defined exceptions are identified by classes as well. Using this mechanism it is possible to create extensible hierarchies of exceptions.\n",
      "\n",
      "There are two new valid (semantic) forms for the [raise](http://docs.python.org/2/reference/simple_stmts.html#raise) statement:"
     ]
    },
    {
     "cell_type": "code",
     "collapsed": false,
     "input": [
      "raise Class, instance\n",
      "\n",
      "raise instance"
     ],
     "language": "python",
     "metadata": {},
     "outputs": []
    },
    {
     "cell_type": "markdown",
     "metadata": {},
     "source": [
      "In the first form, `instance` must be an instance of `Class` or of a class derived from it. The second form is a shorthand for:"
     ]
    },
    {
     "cell_type": "code",
     "collapsed": false,
     "input": [
      "raise instance.__class__, instance"
     ],
     "language": "python",
     "metadata": {},
     "outputs": []
    },
    {
     "cell_type": "markdown",
     "metadata": {},
     "source": [
      "A class in an [except](http://docs.python.org/2/reference/compound_stmts.html#except) clause is compatible with an exception if it is the same class or a base class thereof (but not the other way around \u2014 an except clause listing a derived class is not compatible with a base class). For example, the following code will print B, C, D in that order:"
     ]
    },
    {
     "cell_type": "code",
     "collapsed": false,
     "input": [
      "class B:\n",
      "    pass\n",
      "\n",
      "class C(B):\n",
      "    pass\n",
      "\n",
      "class D(C):\n",
      "    pass\n",
      "\n",
      "for c in (B, C, D):\n",
      "    try:\n",
      "        raise c()\n",
      "    except D:\n",
      "        print \"D\"\n",
      "    except C:\n",
      "        print \"C\"\n",
      "    except B:\n",
      "        print \"B\""
     ],
     "language": "python",
     "metadata": {},
     "outputs": [
      {
       "output_type": "stream",
       "stream": "stdout",
       "text": [
        "B\n",
        "C\n",
        "D\n"
       ]
      }
     ],
     "prompt_number": 20
    },
    {
     "cell_type": "markdown",
     "metadata": {},
     "source": [
      "**Note** that if the except clauses were reversed (with `except B` first), it would have printed B, B, B \u2014 the first matching except clause is triggered.\n",
      "\n",
      "When an error message is printed for an unhandled exception, the exception\u2019s class name is printed, then a colon and a space, and finally the instance converted to a string using the built-in function [str()](http://docs.python.org/2/library/functions.html#str)."
     ]
    },
    {
     "cell_type": "code",
     "collapsed": false,
     "input": [
      "for c in (B, C, D):\n",
      "    try:\n",
      "        raise c()\n",
      "    except B:\n",
      "        print \"B\"\n",
      "    except C:\n",
      "        print \"C\"\n",
      "    except D:\n",
      "        print \"D\""
     ],
     "language": "python",
     "metadata": {},
     "outputs": [
      {
       "output_type": "stream",
       "stream": "stdout",
       "text": [
        "B\n",
        "B\n",
        "B\n"
       ]
      }
     ],
     "prompt_number": 21
    },
    {
     "cell_type": "markdown",
     "metadata": {},
     "source": [
      "9.9. Iterators\n",
      "===\n",
      "By now you have probably noticed that most container objects can be looped over using a [for](http://docs.python.org/2/reference/compound_stmts.html#for) statement:"
     ]
    },
    {
     "cell_type": "code",
     "collapsed": false,
     "input": [
      "for element in [1, 2, 3]:\n",
      "    print element"
     ],
     "language": "python",
     "metadata": {},
     "outputs": [
      {
       "output_type": "stream",
       "stream": "stdout",
       "text": [
        "1\n",
        "2\n",
        "3\n"
       ]
      }
     ],
     "prompt_number": 22
    },
    {
     "cell_type": "code",
     "collapsed": false,
     "input": [
      "for element in (1, 2, 3):\n",
      "    print element"
     ],
     "language": "python",
     "metadata": {},
     "outputs": [
      {
       "output_type": "stream",
       "stream": "stdout",
       "text": [
        "1\n",
        "2\n",
        "3\n"
       ]
      }
     ],
     "prompt_number": 23
    },
    {
     "cell_type": "code",
     "collapsed": false,
     "input": [
      "for key in {'one':1, 'two':2}:\n",
      "    print key"
     ],
     "language": "python",
     "metadata": {},
     "outputs": [
      {
       "output_type": "stream",
       "stream": "stdout",
       "text": [
        "two\n",
        "one\n"
       ]
      }
     ],
     "prompt_number": 26
    },
    {
     "cell_type": "code",
     "collapsed": false,
     "input": [
      "for char in \"123\":\n",
      "    print char"
     ],
     "language": "python",
     "metadata": {},
     "outputs": [
      {
       "output_type": "stream",
       "stream": "stdout",
       "text": [
        "1\n",
        "2\n",
        "3\n"
       ]
      }
     ],
     "prompt_number": 27
    },
    {
     "cell_type": "code",
     "collapsed": false,
     "input": [
      "for line in open (\"data.txt\"):\n",
      "    print line,"
     ],
     "language": "python",
     "metadata": {},
     "outputs": [
      {
       "output_type": "stream",
       "stream": "stdout",
       "text": [
        "1023456789abcdef2)\n"
       ]
      }
     ],
     "prompt_number": 28
    },
    {
     "cell_type": "markdown",
     "metadata": {},
     "source": [
      "This style of access is clear, concise, and convenient. The use of iterators pervades and unifies Python. Behind the scenes, the [for](http://docs.python.org/2/reference/compound_stmts.html#for) statement calls [iter()](http://docs.python.org/2/library/functions.html#iter) on the container object. The function returns an iterator object that defines the method [next()](http://docs.python.org/2/library/stdtypes.html#iterator.next) which accesses elements in the container one at a time. When there are no more elements, [next()](http://docs.python.org/2/library/stdtypes.html#iterator.next) raises a [StopIteration](http://docs.python.org/2/library/exceptions.html#exceptions.StopIteration) exception which tells the [for](http://docs.python.org/2/reference/compound_stmts.html#for) loop to terminate. This example shows how it all works:"
     ]
    },
    {
     "cell_type": "code",
     "collapsed": false,
     "input": [
      "s = 'abc'\n",
      "it = iter(s)\n",
      "it"
     ],
     "language": "python",
     "metadata": {},
     "outputs": [
      {
       "metadata": {},
       "output_type": "pyout",
       "prompt_number": 29,
       "text": [
        "<iterator at 0x2debd90>"
       ]
      }
     ],
     "prompt_number": 29
    },
    {
     "cell_type": "code",
     "collapsed": false,
     "input": [
      "it.next()"
     ],
     "language": "python",
     "metadata": {},
     "outputs": [
      {
       "metadata": {},
       "output_type": "pyout",
       "prompt_number": 30,
       "text": [
        "'a'"
       ]
      }
     ],
     "prompt_number": 30
    },
    {
     "cell_type": "code",
     "collapsed": false,
     "input": [
      "it.next()"
     ],
     "language": "python",
     "metadata": {},
     "outputs": [
      {
       "metadata": {},
       "output_type": "pyout",
       "prompt_number": 31,
       "text": [
        "'b'"
       ]
      }
     ],
     "prompt_number": 31
    },
    {
     "cell_type": "code",
     "collapsed": false,
     "input": [
      "it.next()"
     ],
     "language": "python",
     "metadata": {},
     "outputs": [
      {
       "metadata": {},
       "output_type": "pyout",
       "prompt_number": 32,
       "text": [
        "'c'"
       ]
      }
     ],
     "prompt_number": 32
    },
    {
     "cell_type": "code",
     "collapsed": false,
     "input": [
      "it.next()"
     ],
     "language": "python",
     "metadata": {},
     "outputs": [
      {
       "ename": "StopIteration",
       "evalue": "",
       "output_type": "pyerr",
       "traceback": [
        "\u001b[1;31m---------------------------------------------------------------------------\u001b[0m\n\u001b[1;31mStopIteration\u001b[0m                             Traceback (most recent call last)",
        "\u001b[1;32m<ipython-input-33-54f0920595b2>\u001b[0m in \u001b[0;36m<module>\u001b[1;34m()\u001b[0m\n\u001b[1;32m----> 1\u001b[1;33m \u001b[0mit\u001b[0m\u001b[1;33m.\u001b[0m\u001b[0mnext\u001b[0m\u001b[1;33m(\u001b[0m\u001b[1;33m)\u001b[0m\u001b[1;33m\u001b[0m\u001b[0m\n\u001b[0m",
        "\u001b[1;31mStopIteration\u001b[0m: "
       ]
      }
     ],
     "prompt_number": 33
    },
    {
     "cell_type": "markdown",
     "metadata": {},
     "source": [
      "Having seen the mechanics behind the iterator protocol, it is easy to add iterator behavior to your classes. Define an [`__iter__()`](http://docs.python.org/2/reference/datamodel.html#object.__iter__) method which returns an object with a [next()](http://docs.python.org/2/library/functions.html#next) method. If the class defines [next()](http://docs.python.org/2/library/functions.html#next), then [`__iter__()`](http://docs.python.org/2/reference/datamodel.html#object.__iter__) can just return `self`:"
     ]
    },
    {
     "cell_type": "code",
     "collapsed": false,
     "input": [
      "class Reverse:\n",
      "    \"\"\" Iterator for looping over a sequence backwards.\"\"\"\n",
      "    def __init__(self, data):\n",
      "        self.data = data\n",
      "        self.index = len(data)\n",
      "        \n",
      "    def __iter__(self):\n",
      "        return self\n",
      "    \n",
      "    def next(self):\n",
      "        if self.index == 0:\n",
      "            raise StopIteration\n",
      "        self.index = self.index - 1\n",
      "        return self.data[self.index]\n",
      "    \n",
      "rev = Reverse('spam')\n",
      "iter(rev)"
     ],
     "language": "python",
     "metadata": {},
     "outputs": [
      {
       "metadata": {},
       "output_type": "pyout",
       "prompt_number": 34,
       "text": [
        "<__main__.Reverse instance at 0x20d4cf8>"
       ]
      }
     ],
     "prompt_number": 34
    },
    {
     "cell_type": "code",
     "collapsed": false,
     "input": [
      "for char in rev:\n",
      "    print char"
     ],
     "language": "python",
     "metadata": {},
     "outputs": [
      {
       "output_type": "stream",
       "stream": "stdout",
       "text": [
        "m\n",
        "a\n",
        "p\n",
        "s\n"
       ]
      }
     ],
     "prompt_number": 35
    },
    {
     "cell_type": "markdown",
     "metadata": {},
     "source": [
      "9.10. Generators\n",
      "===\n",
      "[_Generators_](http://docs.python.org/2/glossary.html#term-generator) are a simple and powerful tool for creating iterators. They are written like regular functions but use the [yield](http://docs.python.org/2/reference/simple_stmts.html#yield) statement whenever they want to return data. Each time [next()](http://docs.python.org/2/library/functions.html#next) is called, the generator resumes where it left-off (it remembers all the data values and which statement was last executed). An example shows that generators can be trivially easy to create:"
     ]
    },
    {
     "cell_type": "code",
     "collapsed": false,
     "input": [
      "def reverse(data):\n",
      "    for index in range(len(data)-1, -1, -1):\n",
      "        yield data[index]\n",
      "\n",
      "for char in reverse('golf'):\n",
      "    print char"
     ],
     "language": "python",
     "metadata": {},
     "outputs": [
      {
       "output_type": "stream",
       "stream": "stdout",
       "text": [
        "f\n",
        "l\n",
        "o\n",
        "g\n"
       ]
      }
     ],
     "prompt_number": 36
    },
    {
     "cell_type": "markdown",
     "metadata": {},
     "source": [
      "<iframe width=\"800\" height=\"500\" frameborder=\"0\" src=\"http://pythontutor.com/iframe-embed.html#code=def+reverse(data)%3A%0A++++for+index+in+range(len(data)-1,+-1,+-1)%3A%0A++++++++yield+data%5Bindex%5D%0A%0Afor+char+in+reverse('golf')%3A%0A++++print+char&cumulative=false&heapPrimitives=false&drawParentPointers=false&textReferences=false&showOnlyOutputs=false&py=2&curInstr=0&codeDivWidth=350&codeDivHeight=400\"> </iframe>"
     ]
    },
    {
     "cell_type": "markdown",
     "metadata": {},
     "source": [
      "Anything that can be done with generators can also be done with class based iterators as described in the previous section. What makes generators so compact is that the [`__iter__()`](http://docs.python.org/2/reference/datamodel.html#object.__iter__) and [next()](http://docs.python.org/2/library/functions.html#next) methods are created automatically.\n",
      "\n",
      "Another key feature is that the local variables and execution state are automatically saved between calls. This made the function easier to write and much more clear than an approach using instance variables like `self.index` and `self.data`.\n",
      "\n",
      "In addition to automatic method creation and saving program state, when generators terminate, they automatically raise [StopIteration](http://docs.python.org/2/library/exceptions.html#exceptions.StopIteration). In combination, these features make it easy to create iterators with no more effort than writing a regular function.\n",
      "\n",
      "9.11. Generator Expressions\n",
      "===\n",
      "Some simple generators can be coded succinctly as expressions using a syntax similar to list comprehensions but with parentheses instead of brackets. These expressions are designed for situations where the generator is used right away by an enclosing function. Generator expressions are more compact but less versatile than full generator definitions and tend to be more memory friendly than equivalent list comprehensions.\n",
      "\n",
      "Examples:"
     ]
    },
    {
     "cell_type": "code",
     "collapsed": false,
     "input": [
      "sum(i*i for i in range(10)) # sum of squares"
     ],
     "language": "python",
     "metadata": {},
     "outputs": [
      {
       "metadata": {},
       "output_type": "pyout",
       "prompt_number": 37,
       "text": [
        "285"
       ]
      }
     ],
     "prompt_number": 37
    },
    {
     "cell_type": "code",
     "collapsed": false,
     "input": [
      "xvec = [10, 20, 30]\n",
      "yvec = [7, 5, 3]\n",
      "sum(x*y for x, y in zip(xvec, yvec)) # dot product"
     ],
     "language": "python",
     "metadata": {},
     "outputs": [
      {
       "metadata": {},
       "output_type": "pyout",
       "prompt_number": 38,
       "text": [
        "260"
       ]
      }
     ],
     "prompt_number": 38
    },
    {
     "cell_type": "code",
     "collapsed": false,
     "input": [
      "from math import pi, sin\n",
      "sine_table = dict((x, sin(x*pi/180)) for x in range(0, 10))\n",
      "sine_table"
     ],
     "language": "python",
     "metadata": {},
     "outputs": [
      {
       "metadata": {},
       "output_type": "pyout",
       "prompt_number": 41,
       "text": [
        "{0: 0.0,\n",
        " 1: 0.01745240643728351,\n",
        " 2: 0.03489949670250097,\n",
        " 3: 0.05233595624294383,\n",
        " 4: 0.0697564737441253,\n",
        " 5: 0.08715574274765817,\n",
        " 6: 0.10452846326765346,\n",
        " 7: 0.12186934340514748,\n",
        " 8: 0.13917310096006544,\n",
        " 9: 0.15643446504023087}"
       ]
      }
     ],
     "prompt_number": 41
    },
    {
     "cell_type": "code",
     "collapsed": false,
     "input": [
      "unique_words = set(word for line in page for word in line.split())\n",
      "unique_words"
     ],
     "language": "python",
     "metadata": {},
     "outputs": [
      {
       "ename": "NameError",
       "evalue": "name 'page' is not defined",
       "output_type": "pyerr",
       "traceback": [
        "\u001b[1;31m---------------------------------------------------------------------------\u001b[0m\n\u001b[1;31mNameError\u001b[0m                                 Traceback (most recent call last)",
        "\u001b[1;32m<ipython-input-42-1e258a372a58>\u001b[0m in \u001b[0;36m<module>\u001b[1;34m()\u001b[0m\n\u001b[1;32m----> 1\u001b[1;33m \u001b[0munique_words\u001b[0m \u001b[1;33m=\u001b[0m \u001b[0mset\u001b[0m\u001b[1;33m(\u001b[0m\u001b[0mword\u001b[0m \u001b[1;32mfor\u001b[0m \u001b[0mline\u001b[0m \u001b[1;32min\u001b[0m \u001b[0mpage\u001b[0m \u001b[1;32mfor\u001b[0m \u001b[0mword\u001b[0m \u001b[1;32min\u001b[0m \u001b[0mline\u001b[0m\u001b[1;33m.\u001b[0m\u001b[0msplit\u001b[0m\u001b[1;33m(\u001b[0m\u001b[1;33m)\u001b[0m\u001b[1;33m)\u001b[0m\u001b[1;33m\u001b[0m\u001b[0m\n\u001b[0m\u001b[0;32m      2\u001b[0m \u001b[0munique_words\u001b[0m\u001b[1;33m\u001b[0m\u001b[0m\n",
        "\u001b[1;31mNameError\u001b[0m: name 'page' is not defined"
       ]
      }
     ],
     "prompt_number": 42
    },
    {
     "cell_type": "code",
     "collapsed": false,
     "input": [
      "valedictorian = max((student.gpa, student.name) for student in graduates)"
     ],
     "language": "python",
     "metadata": {},
     "outputs": []
    },
    {
     "cell_type": "code",
     "collapsed": false,
     "input": [
      "data = 'golf'\n",
      "list(data[i] for i in range(len(data)-1, -1, -1))"
     ],
     "language": "python",
     "metadata": {},
     "outputs": [
      {
       "metadata": {},
       "output_type": "pyout",
       "prompt_number": 43,
       "text": [
        "['f', 'l', 'o', 'g']"
       ]
      }
     ],
     "prompt_number": 43
    },
    {
     "cell_type": "markdown",
     "metadata": {},
     "source": [
      "**Footnotes**\n",
      "\n",
      "> [1]\tExcept for one thing. Module objects have a secret read-only attribute called `__dict__` which returns the dictionary used to implement the module\u2019s namespace; the name `__dict__` is an attribute but not a global name. Obviously, using this violates the abstraction of namespace implementation, and should be restricted to things like post-mortem debuggers."
     ]
    },
    {
     "cell_type": "code",
     "collapsed": false,
     "input": [],
     "language": "python",
     "metadata": {},
     "outputs": []
    }
   ],
   "metadata": {}
  }
 ]
}