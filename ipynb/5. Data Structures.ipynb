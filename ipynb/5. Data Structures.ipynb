{
 "metadata": {
  "name": ""
 },
 "nbformat": 3,
 "nbformat_minor": 0,
 "worksheets": [
  {
   "cells": [
    {
     "cell_type": "markdown",
     "metadata": {},
     "source": [
      "This chapter describes some things you\u2019ve learned about already in more detail, and adds some new things as well."
     ]
    },
    {
     "cell_type": "markdown",
     "metadata": {},
     "source": [
      "5.1. More on Lists\n",
      "===\n",
      "The list data type has some more methods. Here are all of the methods of list objects:\n",
      "\n",
      "list.`append(x)`\n",
      "Add an item to the end of the list; equivalent to a[len(a):] = [x].\n",
      "\n",
      "list.`extend(L)`\n",
      "Extend the list by appending all the items in the given list; equivalent to a[len(a):] = L.\n",
      "\n",
      "list.`insert(i, x)`\n",
      "Insert an item at a given position. The first argument is the index of the element before which to insert, so a.insert(0, x) inserts at the front of the list, and a.insert(len(a), x) is equivalent to a.append(x).\n",
      "\n",
      "list.`remove(x)`\n",
      "Remove the first item from the list whose value is x. It is an error if there is no such item.\n",
      "\n",
      "list.`pop([i])`\n",
      "Remove the item at the given position in the list, and return it. If no index is specified, a.pop() removes and returns the last item in the list. (The square brackets around the i in the method signature denote that the parameter is optional, not that you should type square brackets at that position. You will see this notation frequently in the Python Library Reference.)\n",
      "\n",
      "list.`index(x)`\n",
      "Return the index in the list of the first item whose value is x. It is an error if there is no such item.\n",
      "\n",
      "list.`count(x)`\n",
      "Return the number of times x appears in the list.\n",
      "\n",
      "list.`sort()`\n",
      "Sort the items of the list, in place.\n",
      "\n",
      "list.`reverse()`\n",
      "Reverse the elements of the list, in place.\n",
      "\n",
      "An example that uses most of the list methods:"
     ]
    },
    {
     "cell_type": "code",
     "collapsed": false,
     "input": [
      "a = [66.25, 333, 333, 1, 1234.5]\n",
      "print a.count(333), a.count(66.25), a.count('x')"
     ],
     "language": "python",
     "metadata": {},
     "outputs": [
      {
       "output_type": "stream",
       "stream": "stdout",
       "text": [
        "2 1 0\n"
       ]
      }
     ],
     "prompt_number": 1
    },
    {
     "cell_type": "code",
     "collapsed": false,
     "input": [
      "a.insert(2, -1)\n",
      "a.append(333)\n",
      "a"
     ],
     "language": "python",
     "metadata": {},
     "outputs": [
      {
       "metadata": {},
       "output_type": "pyout",
       "prompt_number": 2,
       "text": [
        "[66.25, 333, -1, 333, 1, 1234.5, 333]"
       ]
      }
     ],
     "prompt_number": 2
    },
    {
     "cell_type": "code",
     "collapsed": false,
     "input": [
      "a.index(333)"
     ],
     "language": "python",
     "metadata": {},
     "outputs": [
      {
       "metadata": {},
       "output_type": "pyout",
       "prompt_number": 3,
       "text": [
        "1"
       ]
      }
     ],
     "prompt_number": 3
    },
    {
     "cell_type": "code",
     "collapsed": false,
     "input": [
      "a.remove(333)\n",
      "a"
     ],
     "language": "python",
     "metadata": {},
     "outputs": [
      {
       "metadata": {},
       "output_type": "pyout",
       "prompt_number": 4,
       "text": [
        "[66.25, -1, 333, 1, 1234.5, 333]"
       ]
      }
     ],
     "prompt_number": 4
    },
    {
     "cell_type": "code",
     "collapsed": false,
     "input": [
      "a.reverse()\n",
      "a"
     ],
     "language": "python",
     "metadata": {},
     "outputs": [
      {
       "metadata": {},
       "output_type": "pyout",
       "prompt_number": 5,
       "text": [
        "[333, 1234.5, 1, 333, -1, 66.25]"
       ]
      }
     ],
     "prompt_number": 5
    },
    {
     "cell_type": "code",
     "collapsed": false,
     "input": [
      "a.sort()\n",
      "a"
     ],
     "language": "python",
     "metadata": {},
     "outputs": [
      {
       "metadata": {},
       "output_type": "pyout",
       "prompt_number": 6,
       "text": [
        "[-1, 1, 66.25, 333, 333, 1234.5]"
       ]
      }
     ],
     "prompt_number": 6
    },
    {
     "cell_type": "markdown",
     "metadata": {},
     "source": [
      "5.1.1. Using Lists as Stacks\n",
      "---\n"
     ]
    }
   ],
   "metadata": {}
  }
 ]
}