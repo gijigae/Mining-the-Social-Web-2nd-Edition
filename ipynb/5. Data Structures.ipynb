{
 "metadata": {
  "name": ""
 },
 "nbformat": 3,
 "nbformat_minor": 0,
 "worksheets": [
  {
   "cells": [
    {
     "cell_type": "markdown",
     "metadata": {},
     "source": [
      "This chapter describes some things you\u2019ve learned about already in more detail, and adds some new things as well."
     ]
    },
    {
     "cell_type": "markdown",
     "metadata": {},
     "source": [
      "5.1. More on Lists\n",
      "===\n",
      "The list data type has some more methods. Here are all of the methods of list objects:\n",
      "\n",
      "list.`append(x)`\n",
      "Add an item to the end of the list; equivalent to a[len(a):] = [x].\n",
      "\n",
      "list.`extend(L)`\n",
      "Extend the list by appending all the items in the given list; equivalent to a[len(a):] = L.\n",
      "\n",
      "list.`insert(i, x)`\n",
      "Insert an item at a given position. The first argument is the index of the element before which to insert, so a.insert(0, x) inserts at the front of the list, and a.insert(len(a), x) is equivalent to a.append(x).\n",
      "\n",
      "list.`remove(x)`\n",
      "Remove the first item from the list whose value is x. It is an error if there is no such item.\n",
      "\n",
      "list.`pop([i])`\n",
      "Remove the item at the given position in the list, and return it. If no index is specified, a.pop() removes and returns the last item in the list. (The square brackets around the i in the method signature denote that the parameter is optional, not that you should type square brackets at that position. You will see this notation frequently in the Python Library Reference.)\n",
      "\n",
      "list.`index(x)`\n",
      "Return the index in the list of the first item whose value is x. It is an error if there is no such item.\n",
      "\n",
      "list.`count(x)`\n",
      "Return the number of times x appears in the list.\n",
      "\n",
      "list.`sort()`\n",
      "Sort the items of the list, in place.\n",
      "\n",
      "list.`reverse()`\n",
      "Reverse the elements of the list, in place.\n",
      "\n",
      "An example that uses most of the list methods:"
     ]
    },
    {
     "cell_type": "code",
     "collapsed": false,
     "input": [
      "a = [66.25, 333, 333, 1, 1234.5]\n",
      "print a.count(333), a.count(66.25), a.count('x')"
     ],
     "language": "python",
     "metadata": {},
     "outputs": [
      {
       "output_type": "stream",
       "stream": "stdout",
       "text": [
        "2 1 0\n"
       ]
      }
     ],
     "prompt_number": 1
    },
    {
     "cell_type": "code",
     "collapsed": false,
     "input": [
      "a.insert(2, -1)\n",
      "a.append(333)\n",
      "a"
     ],
     "language": "python",
     "metadata": {},
     "outputs": [
      {
       "metadata": {},
       "output_type": "pyout",
       "prompt_number": 2,
       "text": [
        "[66.25, 333, -1, 333, 1, 1234.5, 333]"
       ]
      }
     ],
     "prompt_number": 2
    },
    {
     "cell_type": "code",
     "collapsed": false,
     "input": [
      "a.index(333)"
     ],
     "language": "python",
     "metadata": {},
     "outputs": [
      {
       "metadata": {},
       "output_type": "pyout",
       "prompt_number": 3,
       "text": [
        "1"
       ]
      }
     ],
     "prompt_number": 3
    },
    {
     "cell_type": "code",
     "collapsed": false,
     "input": [
      "a.remove(333)\n",
      "a"
     ],
     "language": "python",
     "metadata": {},
     "outputs": [
      {
       "metadata": {},
       "output_type": "pyout",
       "prompt_number": 4,
       "text": [
        "[66.25, -1, 333, 1, 1234.5, 333]"
       ]
      }
     ],
     "prompt_number": 4
    },
    {
     "cell_type": "code",
     "collapsed": false,
     "input": [
      "a.reverse()\n",
      "a"
     ],
     "language": "python",
     "metadata": {},
     "outputs": [
      {
       "metadata": {},
       "output_type": "pyout",
       "prompt_number": 5,
       "text": [
        "[333, 1234.5, 1, 333, -1, 66.25]"
       ]
      }
     ],
     "prompt_number": 5
    },
    {
     "cell_type": "code",
     "collapsed": false,
     "input": [
      "a.sort()\n",
      "a"
     ],
     "language": "python",
     "metadata": {},
     "outputs": [
      {
       "metadata": {},
       "output_type": "pyout",
       "prompt_number": 6,
       "text": [
        "[-1, 1, 66.25, 333, 333, 1234.5]"
       ]
      }
     ],
     "prompt_number": 6
    },
    {
     "cell_type": "markdown",
     "metadata": {},
     "source": [
      "5.1.1. Using Lists as Stacks\n",
      "---\n",
      "The list methods make it very easy to use a list as a stack, where the last element added is the first element retrieved (**\u201clast-in, first-out\u201d**). To add an item to the top of the stack, use `append()`. To retrieve an item from the top of the stack, use `pop()` without an explicit index. For example:"
     ]
    },
    {
     "cell_type": "code",
     "collapsed": false,
     "input": [
      "stack = [3, 4, 5]\n",
      "stack.append(6)\n",
      "stack.append(7)\n",
      "stack"
     ],
     "language": "python",
     "metadata": {},
     "outputs": [
      {
       "metadata": {},
       "output_type": "pyout",
       "prompt_number": 16,
       "text": [
        "[3, 4, 5, 6, 7]"
       ]
      }
     ],
     "prompt_number": 16
    },
    {
     "cell_type": "code",
     "collapsed": false,
     "input": [
      "stack.pop()"
     ],
     "language": "python",
     "metadata": {},
     "outputs": [
      {
       "metadata": {},
       "output_type": "pyout",
       "prompt_number": 17,
       "text": [
        "7"
       ]
      }
     ],
     "prompt_number": 17
    },
    {
     "cell_type": "code",
     "collapsed": false,
     "input": [
      "stack"
     ],
     "language": "python",
     "metadata": {},
     "outputs": [
      {
       "metadata": {},
       "output_type": "pyout",
       "prompt_number": 18,
       "text": [
        "[3, 4, 5, 6]"
       ]
      }
     ],
     "prompt_number": 18
    },
    {
     "cell_type": "code",
     "collapsed": false,
     "input": [
      "stack.pop()"
     ],
     "language": "python",
     "metadata": {},
     "outputs": [
      {
       "metadata": {},
       "output_type": "pyout",
       "prompt_number": 19,
       "text": [
        "6"
       ]
      }
     ],
     "prompt_number": 19
    },
    {
     "cell_type": "code",
     "collapsed": false,
     "input": [
      "stack.pop()"
     ],
     "language": "python",
     "metadata": {},
     "outputs": [
      {
       "metadata": {},
       "output_type": "pyout",
       "prompt_number": 20,
       "text": [
        "5"
       ]
      }
     ],
     "prompt_number": 20
    },
    {
     "cell_type": "code",
     "collapsed": false,
     "input": [
      "stack"
     ],
     "language": "python",
     "metadata": {},
     "outputs": [
      {
       "metadata": {},
       "output_type": "pyout",
       "prompt_number": 21,
       "text": [
        "[3, 4]"
       ]
      }
     ],
     "prompt_number": 21
    },
    {
     "cell_type": "markdown",
     "metadata": {},
     "source": [
      "5.1.2. Using Lists as Queues\n",
      "---\n",
      "It is also possible to use a list as a queue, where the first element added is the first element retrieved (**\u201cfirst-in, first-out\u201d**); however, lists are not efficient for this purpose. While appends and pops from the end of list are fast, doing inserts or pops from the beginning of a list is slow (because all of the other elements have to be shifted by one).\n",
      "\n",
      "To implement a queue, use `collections.deque` which was designed to have fast appends and pops from both ends. For example:"
     ]
    },
    {
     "cell_type": "code",
     "collapsed": false,
     "input": [
      "from collections import deque\n",
      "queue = deque([\"Eric\", \"John\", \"Michael\"])\n",
      "queue.append(\"Terry\")\n",
      "queue"
     ],
     "language": "python",
     "metadata": {},
     "outputs": [
      {
       "metadata": {},
       "output_type": "pyout",
       "prompt_number": 27,
       "text": [
        "deque(['Eric', 'John', 'Michael', 'Terry'])"
       ]
      }
     ],
     "prompt_number": 27
    },
    {
     "cell_type": "code",
     "collapsed": false,
     "input": [
      "queue.append(\"Graham\")\n",
      "queue"
     ],
     "language": "python",
     "metadata": {},
     "outputs": [
      {
       "metadata": {},
       "output_type": "pyout",
       "prompt_number": 28,
       "text": [
        "deque(['Eric', 'John', 'Michael', 'Terry', 'Graham'])"
       ]
      }
     ],
     "prompt_number": 28
    },
    {
     "cell_type": "code",
     "collapsed": false,
     "input": [
      "queue.popleft()  # The first to arrive now leaves"
     ],
     "language": "python",
     "metadata": {},
     "outputs": [
      {
       "metadata": {},
       "output_type": "pyout",
       "prompt_number": 29,
       "text": [
        "'Eric'"
       ]
      }
     ],
     "prompt_number": 29
    },
    {
     "cell_type": "code",
     "collapsed": false,
     "input": [
      "queue.popleft()  # The second to arrive now leaves"
     ],
     "language": "python",
     "metadata": {},
     "outputs": [
      {
       "metadata": {},
       "output_type": "pyout",
       "prompt_number": 30,
       "text": [
        "'John'"
       ]
      }
     ],
     "prompt_number": 30
    },
    {
     "cell_type": "code",
     "collapsed": false,
     "input": [
      "queue            # Remaining queue in order of arrival"
     ],
     "language": "python",
     "metadata": {},
     "outputs": [
      {
       "metadata": {},
       "output_type": "pyout",
       "prompt_number": 31,
       "text": [
        "deque(['Michael', 'Terry', 'Graham'])"
       ]
      }
     ],
     "prompt_number": 31
    },
    {
     "cell_type": "markdown",
     "metadata": {},
     "source": [
      "5.1.3. Functional Programming Tools\n",
      "---\n",
      "There are three built-in functions that are very useful when used with lists: `filter()`, `map()`, and `reduce()`.\n",
      "\n",
      "`filter(function, sequence)` returns a sequence consisting of those items from the sequence for which `function(item)` is true. If sequence is a string or tuple, the result will be of the same type; otherwise, it is always a list. For example, to compute a sequence of numbers not divisible by 2 or 3:"
     ]
    },
    {
     "cell_type": "code",
     "collapsed": false,
     "input": [
      "def f(x): return x % 2 != 0 and x % 3 != 0\n",
      "filter(f, range(2, 25))"
     ],
     "language": "python",
     "metadata": {},
     "outputs": [
      {
       "metadata": {},
       "output_type": "pyout",
       "prompt_number": 3,
       "text": [
        "[5, 7, 11, 13, 17, 19, 23]"
       ]
      }
     ],
     "prompt_number": 3
    },
    {
     "cell_type": "markdown",
     "metadata": {},
     "source": [
      "`map(function, sequence)` calls `function(item)` for each of the sequence\u2019s items and returns a list of the return values. For example, to compute some cubes:"
     ]
    },
    {
     "cell_type": "code",
     "collapsed": false,
     "input": [
      "def cube(x): return x*x*x\n",
      "map(cube, range(1, 11))"
     ],
     "language": "python",
     "metadata": {},
     "outputs": [
      {
       "metadata": {},
       "output_type": "pyout",
       "prompt_number": 6,
       "text": [
        "[1, 8, 27, 64, 125, 216, 343, 512, 729, 1000]"
       ]
      }
     ],
     "prompt_number": 6
    },
    {
     "cell_type": "markdown",
     "metadata": {},
     "source": [
      "More than one sequence may be passed; the function must then have as many arguments as there are sequences and is called with the corresponding item from each sequence (or None if some sequence is shorter than another). For example:"
     ]
    },
    {
     "cell_type": "code",
     "collapsed": false,
     "input": [
      "seq = range(8)\n",
      "def add(x, y): return x+y\n",
      "result = []\n",
      "result = map(add, seq, seq)\n",
      "print result"
     ],
     "language": "python",
     "metadata": {},
     "outputs": [
      {
       "output_type": "stream",
       "stream": "stdout",
       "text": [
        "[0, 2, 4, 6, 8, 10, 12, 14]\n"
       ]
      }
     ],
     "prompt_number": 10
    },
    {
     "cell_type": "markdown",
     "metadata": {},
     "source": [
      "This can be visualized at [PythonTutor.com](http://www.pythontutor.com/).\n",
      "\n",
      "<iframe width=\"800\" height=\"400\" frameborder=\"0\" src=\"http://pythontutor.com/iframe-embed.html#code=seq+%3D+range(8)%0Adef+add(x,+y)%3A+return+x%2By%0Aresult+%3D+%5B%5D%0Aresult+%3D+map(add,+seq,+seq)&cumulative=false&heapPrimitives=false&drawParentPointers=false&textReferences=false&showOnlyOutputs=false&py=2&curInstr=0&codeDivWidth=350&codeDivHeight=400\"> </iframe>"
     ]
    },
    {
     "cell_type": "markdown",
     "metadata": {},
     "source": [
      "`reduce(function, sequence)` returns a single value constructed by calling the binary function _function_ on the first two items of the sequence, then on the result and the next item, and so on. For example, to compute the sum of the numbers 1 through 10:"
     ]
    },
    {
     "cell_type": "code",
     "collapsed": false,
     "input": [
      "def add(x, y): return x + y\n",
      "reduce(add, range(1, 11))"
     ],
     "language": "python",
     "metadata": {},
     "outputs": [
      {
       "metadata": {},
       "output_type": "pyout",
       "prompt_number": 4,
       "text": [
        "55"
       ]
      }
     ],
     "prompt_number": 4
    },
    {
     "cell_type": "markdown",
     "metadata": {},
     "source": [
      "[Project Euler's first problem](http://projecteuler.net/problem=1) can be solved using `filter` and `reduce`."
     ]
    },
    {
     "cell_type": "code",
     "collapsed": false,
     "input": [
      "def f(x): return (x % 3) == 0 or (x % 5) == 0\n",
      "reduce(add, filter(f, range(1, 1000))) # add() defined abovve"
     ],
     "language": "python",
     "metadata": {},
     "outputs": [
      {
       "metadata": {},
       "output_type": "pyout",
       "prompt_number": 5,
       "text": [
        "233168"
       ]
      }
     ],
     "prompt_number": 5
    },
    {
     "cell_type": "markdown",
     "metadata": {},
     "source": [
      "If there\u2019s only one item in the sequence, its value is returned; if the sequence is empty, an exception is raised.\n",
      "\n",
      "A third argument can be passed to indicate the starting value. In this case the starting value is returned for an empty sequence, and the function is first applied to the starting value and the first sequence item, then to the result and the next item, and so on. For example,"
     ]
    },
    {
     "cell_type": "code",
     "collapsed": false,
     "input": [
      "def sum(seq):\n",
      "    def add(x, y): return x + y\n",
      "    return reduce(add, seq, 0)\n",
      "sum(range(1, 11))"
     ],
     "language": "python",
     "metadata": {},
     "outputs": [
      {
       "metadata": {},
       "output_type": "pyout",
       "prompt_number": 1,
       "text": [
        "55"
       ]
      }
     ],
     "prompt_number": 1
    },
    {
     "cell_type": "code",
     "collapsed": false,
     "input": [
      "sum([])"
     ],
     "language": "python",
     "metadata": {},
     "outputs": [
      {
       "metadata": {},
       "output_type": "pyout",
       "prompt_number": 2,
       "text": [
        "0"
       ]
      }
     ],
     "prompt_number": 2
    },
    {
     "cell_type": "markdown",
     "metadata": {},
     "source": [
      "Don\u2019t use this example\u2019s definition of `sum()`: since summing numbers is such a common need, a built-in function `sum(sequence)` is already provided, and works exactly like this.\n",
      "\n",
      "5.1.4. List Comprehensions\n",
      "---\n",
      "List comprehensions provide a concise way to create lists. Common applications are to make new lists where each element is the result of some operations applied to each member of another sequence or iterable, or to create a subsequence of those elements that satisfy a certain condition.\n",
      "\n",
      "For example, assume we want to create a list of squares, like:"
     ]
    },
    {
     "cell_type": "code",
     "collapsed": false,
     "input": [
      "squares = []\n",
      "for x in range(10):\n",
      "    squares.append(x**2)\n",
      "squares"
     ],
     "language": "python",
     "metadata": {},
     "outputs": [
      {
       "metadata": {},
       "output_type": "pyout",
       "prompt_number": 4,
       "text": [
        "[0, 1, 4, 9, 16, 25, 36, 49, 64, 81]"
       ]
      }
     ],
     "prompt_number": 4
    },
    {
     "cell_type": "markdown",
     "metadata": {},
     "source": [
      "We can obtain the same result with:"
     ]
    },
    {
     "cell_type": "code",
     "collapsed": false,
     "input": [
      "squares = [x**2 for x in range(10)]\n",
      "squares"
     ],
     "language": "python",
     "metadata": {},
     "outputs": [
      {
       "metadata": {},
       "output_type": "pyout",
       "prompt_number": 6,
       "text": [
        "[0, 1, 4, 9, 16, 25, 36, 49, 64, 81]"
       ]
      }
     ],
     "prompt_number": 6
    },
    {
     "cell_type": "markdown",
     "metadata": {},
     "source": [
      "This is also equivalent to `squares = map(lambda x: x**2, range(10))`, but it\u2019s more concise and readable.\n",
      "\n",
      "A list comprehension consists of brackets containing an expression followed by a `for` clause, then zero or more `for` or `if` clauses. The result will be a new list resulting from evaluating the expression in the context of the `for` and `if` clauses which follow it. For example, this listcomp combines the elements of two lists if they are not equal:"
     ]
    },
    {
     "cell_type": "code",
     "collapsed": false,
     "input": [
      "[(x, y) for x in [1, 2, 3] for y in [3, 1, 4] if x != y]"
     ],
     "language": "python",
     "metadata": {},
     "outputs": [
      {
       "metadata": {},
       "output_type": "pyout",
       "prompt_number": 1,
       "text": [
        "[(1, 3), (1, 4), (2, 3), (2, 1), (2, 4), (3, 1), (3, 4)]"
       ]
      }
     ],
     "prompt_number": 1
    },
    {
     "cell_type": "markdown",
     "metadata": {},
     "source": [
      "and it\u2019s equivalent to:"
     ]
    },
    {
     "cell_type": "code",
     "collapsed": false,
     "input": [
      "combs = []\n",
      "for x in [1, 2, 3]:\n",
      "    for y in [3, 1, 4]:\n",
      "        if x != y:\n",
      "            combs.append((x, y))\n",
      "combs"
     ],
     "language": "python",
     "metadata": {},
     "outputs": [
      {
       "metadata": {},
       "output_type": "pyout",
       "prompt_number": 2,
       "text": [
        "[(1, 3), (1, 4), (2, 3), (2, 1), (2, 4), (3, 1), (3, 4)]"
       ]
      }
     ],
     "prompt_number": 2
    },
    {
     "cell_type": "markdown",
     "metadata": {},
     "source": [
      "Note how the order of the `for` and `if` statements is the same in both these snippets.\n",
      "\n",
      "If the expression is a tuple (e.g. the (x, y) in the previous example), it must be parenthesized."
     ]
    },
    {
     "cell_type": "code",
     "collapsed": false,
     "input": [
      "vec = [-4, -2, 0, 2, 4]\n",
      "# Create a new list with the values doubled\n",
      "[x*2 for x in vec]"
     ],
     "language": "python",
     "metadata": {},
     "outputs": [
      {
       "metadata": {},
       "output_type": "pyout",
       "prompt_number": 3,
       "text": [
        "[-8, -4, 0, 4, 8]"
       ]
      }
     ],
     "prompt_number": 3
    },
    {
     "cell_type": "code",
     "collapsed": false,
     "input": [
      "# Filter the list to exclude negative numbers\n",
      "[x for x in vec if x >= 0]"
     ],
     "language": "python",
     "metadata": {},
     "outputs": [
      {
       "metadata": {},
       "output_type": "pyout",
       "prompt_number": 4,
       "text": [
        "[0, 2, 4]"
       ]
      }
     ],
     "prompt_number": 4
    },
    {
     "cell_type": "code",
     "collapsed": false,
     "input": [
      "# Apply a function to all the elements\n",
      "[abs(x) for x in vec]"
     ],
     "language": "python",
     "metadata": {},
     "outputs": [
      {
       "metadata": {},
       "output_type": "pyout",
       "prompt_number": 5,
       "text": [
        "[4, 2, 0, 2, 4]"
       ]
      }
     ],
     "prompt_number": 5
    },
    {
     "cell_type": "code",
     "collapsed": false,
     "input": [
      "# Call a method on each element\n",
      "freshfruit = [' banana', '  loganberry   ', 'passion fruit   ']\n",
      "[weapon.strip() for weapon in freshfruit]"
     ],
     "language": "python",
     "metadata": {},
     "outputs": [
      {
       "metadata": {},
       "output_type": "pyout",
       "prompt_number": 6,
       "text": [
        "['banana', 'loganberry', 'passion fruit']"
       ]
      }
     ],
     "prompt_number": 6
    },
    {
     "cell_type": "code",
     "collapsed": false,
     "input": [
      "# Create a list of 2-tuples like (number, square)\n",
      "[(x, x**2) for x in range(6)]"
     ],
     "language": "python",
     "metadata": {},
     "outputs": [
      {
       "metadata": {},
       "output_type": "pyout",
       "prompt_number": 7,
       "text": [
        "[(0, 0), (1, 1), (2, 4), (3, 9), (4, 16), (5, 25)]"
       ]
      }
     ],
     "prompt_number": 7
    },
    {
     "cell_type": "code",
     "collapsed": false,
     "input": [
      "# The tuple must be parenthesized, otherwise an error is raised\n",
      "[x, x**2 for x in range(6)]"
     ],
     "language": "python",
     "metadata": {},
     "outputs": [
      {
       "ename": "SyntaxError",
       "evalue": "invalid syntax (<ipython-input-8-b920fbac9b9d>, line 2)",
       "output_type": "pyerr",
       "traceback": [
        "\u001b[1;36m  File \u001b[1;32m\"<ipython-input-8-b920fbac9b9d>\"\u001b[1;36m, line \u001b[1;32m2\u001b[0m\n\u001b[1;33m    [x, x**2 for x in range(6)]\u001b[0m\n\u001b[1;37m               ^\u001b[0m\n\u001b[1;31mSyntaxError\u001b[0m\u001b[1;31m:\u001b[0m invalid syntax\n"
       ]
      }
     ],
     "prompt_number": 8
    },
    {
     "cell_type": "code",
     "collapsed": false,
     "input": [
      "# Flatten a list using a listcomp with two 'for'\n",
      "vec = [[1, 2, 3], [4, 5, 6], [7, 8, 9]]\n",
      "[num for elem in vec for num in elem]"
     ],
     "language": "python",
     "metadata": {},
     "outputs": [
      {
       "metadata": {},
       "output_type": "pyout",
       "prompt_number": 9,
       "text": [
        "[1, 2, 3, 4, 5, 6, 7, 8, 9]"
       ]
      }
     ],
     "prompt_number": 9
    },
    {
     "cell_type": "markdown",
     "metadata": {},
     "source": [
      "List comprehensions can contain complex expressions and nested functions:"
     ]
    },
    {
     "cell_type": "code",
     "collapsed": false,
     "input": [
      "from math import pi\n",
      "[str(round(pi, i)) for i in range(1, 6)]"
     ],
     "language": "python",
     "metadata": {},
     "outputs": [
      {
       "metadata": {},
       "output_type": "pyout",
       "prompt_number": 10,
       "text": [
        "['3.1', '3.14', '3.142', '3.1416', '3.14159']"
       ]
      }
     ],
     "prompt_number": 10
    },
    {
     "cell_type": "markdown",
     "metadata": {},
     "source": [
      "###5.1.4.1. Nested List Comprehensions\n",
      "\n",
      "The initial expression in a list comprehension can be any arbitrary expression, including another list comprehension.\n",
      "\n",
      "Consider the following example of a 3x4 matrix implemented as a list of 3 lists of length 4:"
     ]
    },
    {
     "cell_type": "code",
     "collapsed": false,
     "input": [
      "matrix = [\n",
      "       [1, 2, 3, 4],\n",
      "       [5, 6, 7, 8],\n",
      "       [9, 10, 11, 12]\n",
      "       ]\n",
      "# [num for elem in vec for num in elem]\n",
      "[[row[i] for row in matrix] for i in range(4)]"
     ],
     "language": "python",
     "metadata": {},
     "outputs": [
      {
       "metadata": {},
       "output_type": "pyout",
       "prompt_number": 5,
       "text": [
        "[[1, 5, 9], [2, 6, 10], [3, 7, 11], [4, 8, 12]]"
       ]
      }
     ],
     "prompt_number": 5
    },
    {
     "cell_type": "markdown",
     "metadata": {},
     "source": [
      "As we saw in the previous section, the nested listcomp is evaluated in the context of the `for` that follows it, so this example is equivalent to:"
     ]
    },
    {
     "cell_type": "code",
     "collapsed": false,
     "input": [
      "transposed = []\n",
      "for i in range(4):\n",
      "    transposed.append([row[i] for row in matrix])\n",
      "transposed"
     ],
     "language": "python",
     "metadata": {},
     "outputs": [
      {
       "metadata": {},
       "output_type": "pyout",
       "prompt_number": 7,
       "text": [
        "[[1, 5, 9], [2, 6, 10], [3, 7, 11], [4, 8, 12]]"
       ]
      }
     ],
     "prompt_number": 7
    },
    {
     "cell_type": "markdown",
     "metadata": {},
     "source": [
      "which, in turn, is the same as:"
     ]
    },
    {
     "cell_type": "code",
     "collapsed": false,
     "input": [
      "transposed = []\n",
      "for i in range(4):\n",
      "    # The following 3 lines implement the nested listcomp\n",
      "    transposed_row = []\n",
      "    for row in matrix:\n",
      "        transposed_row.append(row[i])\n",
      "    transposed.append(transposed_row)\n",
      "transposed"
     ],
     "language": "python",
     "metadata": {},
     "outputs": [
      {
       "metadata": {},
       "output_type": "pyout",
       "prompt_number": 10,
       "text": [
        "[[1, 5, 9], [2, 6, 10], [3, 7, 11], [4, 8, 12]]"
       ]
      }
     ],
     "prompt_number": 10
    },
    {
     "cell_type": "markdown",
     "metadata": {},
     "source": [
      "In the real world, you should prefer built-in functions to complex flow statements. The `zip()` function would do a great job for this use case:"
     ]
    },
    {
     "cell_type": "code",
     "collapsed": false,
     "input": [
      "zip(*matrix)"
     ],
     "language": "python",
     "metadata": {},
     "outputs": [
      {
       "metadata": {},
       "output_type": "pyout",
       "prompt_number": 11,
       "text": [
        "[(1, 5, 9), (2, 6, 10), (3, 7, 11), (4, 8, 12)]"
       ]
      }
     ],
     "prompt_number": 11
    },
    {
     "cell_type": "markdown",
     "metadata": {},
     "source": [
      "See [Unpacking Argument Lists](http://docs.python.org/2/tutorial/controlflow.html#tut-unpacking-arguments) for details on the asterisk in this line.\n",
      "\n",
      "5.2. The del statement\n",
      "===\n",
      "There is a way to remove an item from a list given its index instead of its value: the `del` statement. This differs from the `pop()` method which returns a value. The `del` statement can also be used to remove slices from a list or clear the entire list (which we did earlier by assignment of an empty list to the slice). For example:"
     ]
    },
    {
     "cell_type": "code",
     "collapsed": false,
     "input": [],
     "language": "python",
     "metadata": {},
     "outputs": []
    }
   ],
   "metadata": {}
  }
 ]
}