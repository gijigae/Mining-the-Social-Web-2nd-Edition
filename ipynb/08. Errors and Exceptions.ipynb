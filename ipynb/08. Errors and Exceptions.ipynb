{
 "metadata": {
  "name": ""
 },
 "nbformat": 3,
 "nbformat_minor": 0,
 "worksheets": [
  {
   "cells": [
    {
     "cell_type": "markdown",
     "metadata": {},
     "source": [
      "Until now error messages haven\u2019t been more than mentioned, but if you have tried out the examples you have probably seen some. There are (at least) two distinguishable kinds of errors: _syntax errors_ and _exceptions_.\n",
      "\n",
      "8.1. Syntax Errors\n",
      "===\n",
      "Syntax errors, also known as parsing errors, are perhaps the most common kind of complaint you get while you are still learning Python:"
     ]
    },
    {
     "cell_type": "code",
     "collapsed": false,
     "input": [
      "while True print 'Hello world'"
     ],
     "language": "python",
     "metadata": {},
     "outputs": [
      {
       "ename": "SyntaxError",
       "evalue": "invalid syntax (<ipython-input-1-f4b9dbd125c8>, line 1)",
       "output_type": "pyerr",
       "traceback": [
        "\u001b[1;36m  File \u001b[1;32m\"<ipython-input-1-f4b9dbd125c8>\"\u001b[1;36m, line \u001b[1;32m1\u001b[0m\n\u001b[1;33m    while True print 'Hello world'\u001b[0m\n\u001b[1;37m                   ^\u001b[0m\n\u001b[1;31mSyntaxError\u001b[0m\u001b[1;31m:\u001b[0m invalid syntax\n"
       ]
      }
     ],
     "prompt_number": 1
    },
    {
     "cell_type": "markdown",
     "metadata": {},
     "source": [
      "The parser repeats the offending line and displays a little \u2018arrow\u2019 pointing at the earliest point in the line where the error was detected. The error is caused by (or at least detected at) the token preceding the arrow: in the example, the error is detected at the keyword `print`, since a colon (':') is missing before it. File name and line number are printed so you know where to look in case the input came from a script.\n",
      "\n",
      "8.2. Exceptions\n",
      "===\n",
      "Even if a statement or expression is syntactically correct, it may cause an error when an attempt is made to execute it. Errors detected during execution are called _exceptions_ and are not unconditionally fatal: you will soon learn how to handle them in Python programs. Most exceptions are not handled by programs, however, and result in error messages as shown here:\n"
     ]
    },
    {
     "cell_type": "code",
     "collapsed": false,
     "input": [
      "10 * (1/0)"
     ],
     "language": "python",
     "metadata": {},
     "outputs": [
      {
       "ename": "ZeroDivisionError",
       "evalue": "integer division or modulo by zero",
       "output_type": "pyerr",
       "traceback": [
        "\u001b[1;31m---------------------------------------------------------------------------\u001b[0m\n\u001b[1;31mZeroDivisionError\u001b[0m                         Traceback (most recent call last)",
        "\u001b[1;32m<ipython-input-2-9ce172bd90a7>\u001b[0m in \u001b[0;36m<module>\u001b[1;34m()\u001b[0m\n\u001b[1;32m----> 1\u001b[1;33m \u001b[1;36m10\u001b[0m \u001b[1;33m*\u001b[0m \u001b[1;33m(\u001b[0m\u001b[1;36m1\u001b[0m\u001b[1;33m/\u001b[0m\u001b[1;36m0\u001b[0m\u001b[1;33m)\u001b[0m\u001b[1;33m\u001b[0m\u001b[0m\n\u001b[0m",
        "\u001b[1;31mZeroDivisionError\u001b[0m: integer division or modulo by zero"
       ]
      }
     ],
     "prompt_number": 2
    },
    {
     "cell_type": "code",
     "collapsed": false,
     "input": [
      "4 + spam*3"
     ],
     "language": "python",
     "metadata": {},
     "outputs": [
      {
       "ename": "NameError",
       "evalue": "name 'spam' is not defined",
       "output_type": "pyerr",
       "traceback": [
        "\u001b[1;31m---------------------------------------------------------------------------\u001b[0m\n\u001b[1;31mNameError\u001b[0m                                 Traceback (most recent call last)",
        "\u001b[1;32m<ipython-input-2-6b1dfe582d2e>\u001b[0m in \u001b[0;36m<module>\u001b[1;34m()\u001b[0m\n\u001b[1;32m----> 1\u001b[1;33m \u001b[1;36m4\u001b[0m \u001b[1;33m+\u001b[0m \u001b[0mspam\u001b[0m\u001b[1;33m*\u001b[0m\u001b[1;36m3\u001b[0m\u001b[1;33m\u001b[0m\u001b[0m\n\u001b[0m",
        "\u001b[1;31mNameError\u001b[0m: name 'spam' is not defined"
       ]
      }
     ],
     "prompt_number": 2
    },
    {
     "cell_type": "code",
     "collapsed": false,
     "input": [
      "'2' + 2"
     ],
     "language": "python",
     "metadata": {},
     "outputs": [
      {
       "ename": "TypeError",
       "evalue": "cannot concatenate 'str' and 'int' objects",
       "output_type": "pyerr",
       "traceback": [
        "\u001b[1;31m---------------------------------------------------------------------------\u001b[0m\n\u001b[1;31mTypeError\u001b[0m                                 Traceback (most recent call last)",
        "\u001b[1;32m<ipython-input-3-4c6dd5170204>\u001b[0m in \u001b[0;36m<module>\u001b[1;34m()\u001b[0m\n\u001b[1;32m----> 1\u001b[1;33m \u001b[1;34m'2'\u001b[0m \u001b[1;33m+\u001b[0m \u001b[1;36m2\u001b[0m\u001b[1;33m\u001b[0m\u001b[0m\n\u001b[0m",
        "\u001b[1;31mTypeError\u001b[0m: cannot concatenate 'str' and 'int' objects"
       ]
      }
     ],
     "prompt_number": 3
    },
    {
     "cell_type": "markdown",
     "metadata": {},
     "source": [
      "The last line of the error message indicates what happened. Exceptions come in different types, and the type is printed as part of the message: the types in the example are `ZeroDivisionError`, `NameError` and `TypeError`. The string printed as the exception type is the name of the built-in exception that occurred. This is true for all built-in exceptions, but need not be true for user-defined exceptions (although it is a useful convention). Standard exception names are built-in identifiers (not reserved keywords).\n",
      "\n",
      "The rest of the line provides detail based on the type of exception and what caused it.\n",
      "\n",
      "The preceding part of the error message shows the context where the exception happened, in the form of a stack traceback. In general it contains a stack traceback listing source lines; however, it will not display lines read from standard input.\n",
      "\n",
      "[Built-in Exceptions](http://docs.python.org/2/library/exceptions.html#bltin-exceptions) lists the built-in exceptions and their meanings.\n",
      "\n",
      "8.3. Handling Exceptions\n",
      "===\n",
      "It is possible to write programs that handle selected exceptions. Look at the following example, which asks the user for input until a valid integer has been entered, but allows the user to interrupt the program (using `Control-C` or whatever the operating system supports); note that a user-generated interruption is signalled by raising the `KeyboardInterrupt` exception."
     ]
    },
    {
     "cell_type": "code",
     "collapsed": false,
     "input": [
      "while True:\n",
      "    try:\n",
      "        x = int(raw_input(\"Please enter a number: \"))\n",
      "        break\n",
      "    except ValueError:\n",
      "        print \"Oops! That was not valide number. Try again...\""
     ],
     "language": "python",
     "metadata": {},
     "outputs": [
      {
       "name": "stdout",
       "output_type": "stream",
       "stream": "stdout",
       "text": [
        "Please enter a number: test\n"
       ]
      },
      {
       "output_type": "stream",
       "stream": "stdout",
       "text": [
        "Oops! That was not valide number. Try again...\n"
       ]
      },
      {
       "name": "stdout",
       "output_type": "stream",
       "stream": "stdout",
       "text": [
        "Please enter a number: test\n"
       ]
      },
      {
       "output_type": "stream",
       "stream": "stdout",
       "text": [
        "Oops! That was not valide number. Try again...\n"
       ]
      },
      {
       "name": "stdout",
       "output_type": "stream",
       "stream": "stdout",
       "text": [
        "Please enter a number: 3\n"
       ]
      }
     ],
     "prompt_number": 4
    },
    {
     "cell_type": "markdown",
     "metadata": {},
     "source": [
      "The `try` statement works as follows.\n",
      "\n",
      "* First, the _try_ clause (the statement(s) between the `try` and `except` keywords) is executed.\n",
      "* If no exception occurs, the except clause is skipped and execution of the try statement is finished.\n",
      "* If an exception occurs during execution of the try clause, the rest of the clause is skipped. Then if its type matches the exception named after the `except` keyword, the except clause is executed, and then execution continues after the `try` statement.\n",
      "* If an exception occurs which does not match the exception named in the except clause, it is passed on to outer `try` statements; if no handler is found, it is an _unhandled exception_ and execution stops with a message as shown above.\n",
      "\n",
      "A `try` statement may have more than one except clause, to specify handlers for different exceptions. At most one handler will be executed. Handlers only handle exceptions that occur in the corresponding try clause, not in other handlers of the same `try` statement. An except clause may name multiple exceptions as a parenthesized tuple, for example:\n",
      "\n",
      "> ... except (RuntimeError, TypeError, NameError):\n",
      "\n",
      "> ...     pass\n",
      "\n",
      "Note that the parentheses around this tuple are required, because **`except ValueError, e`**: was the syntax used for what is normally written as **`except ValueError as e`**: in modern Python (described below). The old syntax is still supported for backwards compatibility. This means **`except RuntimeError, TypeError`** is not equivalent to **`except (RuntimeError, TypeError)`**: but to **`except RuntimeError as TypeError`**: which is not what you want.\n",
      "\n",
      "The last except clause may omit the exception name(s), to serve as a wildcard. Use this with extreme caution, since it is easy to mask a real programming error in this way! It can also be used to print an error message and then re-raise the exception (allowing a caller to handle the exception as well):"
     ]
    },
    {
     "cell_type": "code",
     "collapsed": false,
     "input": [
      "import sys\n",
      "try:\n",
      "    f = open('data.txt')\n",
      "    s = f.readline()\n",
      "    i = int(s.strip())\n",
      "except IOError as e:\n",
      "    print \"I/O Error ({0}): {1}\".format(e.errno, e.strerror)\n",
      "except ValueError:\n",
      "    print \"Could not convert data to an integer.\"\n",
      "except:\n",
      "    print \"Unexpected error:\", sys.exc_info()[0]\n",
      "    raise"
     ],
     "language": "python",
     "metadata": {},
     "outputs": [
      {
       "output_type": "stream",
       "stream": "stdout",
       "text": [
        "Could not convert data to an integer.\n"
       ]
      }
     ],
     "prompt_number": 5
    },
    {
     "cell_type": "markdown",
     "metadata": {},
     "source": [
      "The `try ... except` statement has an optional _else_ clause, which, when present, must follow all except clauses. It is useful for code that must be executed if the try clause does not raise an exception. For example:"
     ]
    },
    {
     "cell_type": "code",
     "collapsed": false,
     "input": [
      "for arg in sys.argv[1:]:\n",
      "    try:\n",
      "        f = open(arg, 'r')\n",
      "    except IOError:\n",
      "        print 'cannot open', arg\n",
      "    else:\n",
      "        print arg, 'has', len(f.readlines()), 'lines'\n",
      "        f.close()"
     ],
     "language": "python",
     "metadata": {},
     "outputs": []
    },
    {
     "cell_type": "markdown",
     "metadata": {},
     "source": [
      "The use of the `else` clause is better than adding additional code to the `try` clause because it avoids accidentally catching an exception that wasn\u2019t raised by the code being protected by the **`try ... except`** statement.\n",
      "\n",
      "When an exception occurs, it may have an associated value, also known as the exception\u2019s _argument_. The presence and type of the argument depend on the exception type.\n",
      "\n",
      "The except clause may specify a variable after the exception name (or tuple). The variable is bound to an exception instance with the arguments stored in `instance.args`. For convenience, the exception instance defines `__str__()` so the arguments can be printed directly without having to reference `.args`.\n",
      "\n",
      "One may also instantiate an exception first before raising it and add any attributes to it as desired."
     ]
    },
    {
     "cell_type": "code",
     "collapsed": false,
     "input": [
      "try:\n",
      "    raise Exception('spam', 'eggs')\n",
      "except Exception as inst:\n",
      "    print type(inst)  # the exception instance\n",
      "    print inst.args   # arguments stored in .args\n",
      "    print inst        # __str__ allows args to be printed directly\n",
      "    x, y = inst.args\n",
      "    print 'x = ', x\n",
      "    print 'y = ', y"
     ],
     "language": "python",
     "metadata": {},
     "outputs": [
      {
       "output_type": "stream",
       "stream": "stdout",
       "text": [
        "<type 'exceptions.Exception'>\n",
        "('spam', 'eggs')\n",
        "('spam', 'eggs')\n",
        "x =  spam\n",
        "y =  eggs\n"
       ]
      }
     ],
     "prompt_number": 7
    },
    {
     "cell_type": "markdown",
     "metadata": {},
     "source": [
      "If an exception has an argument, it is printed as the last part (\u2018detail\u2019) of the message for unhandled exceptions.\n",
      "\n",
      "Exception handlers don\u2019t just handle exceptions if they occur immediately in the try clause, but also if they occur inside functions that are called (even indirectly) in the try clause. For example:"
     ]
    },
    {
     "cell_type": "code",
     "collapsed": false,
     "input": [
      "def this_fails():\n",
      "    x = 1/0\n",
      "\n",
      "try:\n",
      "    this_fails()\n",
      "except ZeroDivisionError as detail:\n",
      "    print 'Handling run-time error:', detail"
     ],
     "language": "python",
     "metadata": {},
     "outputs": [
      {
       "output_type": "stream",
       "stream": "stdout",
       "text": [
        "Handling run-time error: integer division or modulo by zero\n"
       ]
      }
     ],
     "prompt_number": 8
    },
    {
     "cell_type": "markdown",
     "metadata": {},
     "source": [
      "8.4. Raising Exceptions\n",
      "===\n",
      "The **`raise`** statement allows the programmer to force a specified exception to occur. For example:"
     ]
    },
    {
     "cell_type": "code",
     "collapsed": false,
     "input": [
      "raise NameError('Hi, There')"
     ],
     "language": "python",
     "metadata": {},
     "outputs": [
      {
       "ename": "NameError",
       "evalue": "Hi, There",
       "output_type": "pyerr",
       "traceback": [
        "\u001b[1;31m---------------------------------------------------------------------------\u001b[0m\n\u001b[1;31mNameError\u001b[0m                                 Traceback (most recent call last)",
        "\u001b[1;32m<ipython-input-9-28145ee33764>\u001b[0m in \u001b[0;36m<module>\u001b[1;34m()\u001b[0m\n\u001b[1;32m----> 1\u001b[1;33m \u001b[1;32mraise\u001b[0m \u001b[0mNameError\u001b[0m\u001b[1;33m(\u001b[0m\u001b[1;34m'Hi, There'\u001b[0m\u001b[1;33m)\u001b[0m\u001b[1;33m\u001b[0m\u001b[0m\n\u001b[0m",
        "\u001b[1;31mNameError\u001b[0m: Hi, There"
       ]
      }
     ],
     "prompt_number": 9
    },
    {
     "cell_type": "markdown",
     "metadata": {},
     "source": [
      "The sole argument to **`raise`** indicates the exception to be raised. This must be either an exception instance or an exception class (a class that derives from **`Exception`**).\n",
      "\n",
      "If you need to determine whether an exception was raised but don\u2019t intend to handle it, a simpler form of the **`raise`** statement allows you to re-raise the exception:"
     ]
    },
    {
     "cell_type": "code",
     "collapsed": false,
     "input": [
      "try:\n",
      "    raise NameError('Hi There')\n",
      "except NameError:\n",
      "    print 'An xception flew by!'\n",
      "    raise\n",
      "    "
     ],
     "language": "python",
     "metadata": {},
     "outputs": [
      {
       "ename": "NameError",
       "evalue": "Hi There",
       "output_type": "pyerr",
       "traceback": [
        "\u001b[1;31m---------------------------------------------------------------------------\u001b[0m\n\u001b[1;31mNameError\u001b[0m                                 Traceback (most recent call last)",
        "\u001b[1;32m<ipython-input-12-fc84b2c8e02b>\u001b[0m in \u001b[0;36m<module>\u001b[1;34m()\u001b[0m\n\u001b[0;32m      1\u001b[0m \u001b[1;32mtry\u001b[0m\u001b[1;33m:\u001b[0m\u001b[1;33m\u001b[0m\u001b[0m\n\u001b[1;32m----> 2\u001b[1;33m     \u001b[1;32mraise\u001b[0m \u001b[0mNameError\u001b[0m\u001b[1;33m(\u001b[0m\u001b[1;34m'Hi There'\u001b[0m\u001b[1;33m)\u001b[0m\u001b[1;33m\u001b[0m\u001b[0m\n\u001b[0m\u001b[0;32m      3\u001b[0m \u001b[1;32mexcept\u001b[0m \u001b[0mNameError\u001b[0m\u001b[1;33m:\u001b[0m\u001b[1;33m\u001b[0m\u001b[0m\n\u001b[0;32m      4\u001b[0m     \u001b[1;32mprint\u001b[0m \u001b[1;34m'An xception flew by!'\u001b[0m\u001b[1;33m\u001b[0m\u001b[0m\n\u001b[0;32m      5\u001b[0m     \u001b[1;32mraise\u001b[0m\u001b[1;33m\u001b[0m\u001b[0m\n",
        "\u001b[1;31mNameError\u001b[0m: Hi There"
       ]
      },
      {
       "output_type": "stream",
       "stream": "stdout",
       "text": [
        "An xception flew by!\n"
       ]
      }
     ],
     "prompt_number": 12
    },
    {
     "cell_type": "markdown",
     "metadata": {},
     "source": [
      "8.5. User-defined Exceptions\n",
      "===\n",
      "Programs may name their own exceptions by creating a new exception class (see [Classes](http://docs.python.org/2/tutorial/classes.html#tut-classes) for more about Python classes). Exceptions should typically be derived from the `Exception` class, either directly or indirectly. For example:"
     ]
    },
    {
     "cell_type": "code",
     "collapsed": false,
     "input": [
      "class MyError(Exception):\n",
      "    def __init__(self, value):\n",
      "        self.value = value\n",
      "    def __str__(self):\n",
      "        return repr(self.value)\n",
      "    \n",
      "try:\n",
      "    raise MyError(2*2)\n",
      "except MyError as e:\n",
      "    print 'My exception occurred, value:', e.value"
     ],
     "language": "python",
     "metadata": {},
     "outputs": [
      {
       "output_type": "stream",
       "stream": "stdout",
       "text": [
        "My exception occurred, value: 4\n"
       ]
      }
     ],
     "prompt_number": 15
    },
    {
     "cell_type": "code",
     "collapsed": false,
     "input": [
      "raise MyError('oops!')"
     ],
     "language": "python",
     "metadata": {},
     "outputs": [
      {
       "ename": "MyError",
       "evalue": "'oops!'",
       "output_type": "pyerr",
       "traceback": [
        "\u001b[1;31m---------------------------------------------------------------------------\u001b[0m\n\u001b[1;31mMyError\u001b[0m                                   Traceback (most recent call last)",
        "\u001b[1;32m<ipython-input-16-a0e384d42914>\u001b[0m in \u001b[0;36m<module>\u001b[1;34m()\u001b[0m\n\u001b[1;32m----> 1\u001b[1;33m \u001b[1;32mraise\u001b[0m \u001b[0mMyError\u001b[0m\u001b[1;33m(\u001b[0m\u001b[1;34m'oops!'\u001b[0m\u001b[1;33m)\u001b[0m\u001b[1;33m\u001b[0m\u001b[0m\n\u001b[0m",
        "\u001b[1;31mMyError\u001b[0m: 'oops!'"
       ]
      }
     ],
     "prompt_number": 16
    },
    {
     "cell_type": "markdown",
     "metadata": {},
     "source": [
      "In this example, the default `__init__()` of Exception has been overridden. The new behavior simply creates the _value_ attribute. This replaces the default behavior of creating the _args_ attribute.\n",
      "\n",
      "Exception classes can be defined which do anything any other class can do, but are usually kept simple, often only offering a number of attributes that allow information about the error to be extracted by handlers for the exception. When creating a module that can raise several distinct errors, a common practice is to create a base class for exceptions defined by that module, and subclass that to create specific exception classes for different error conditions:"
     ]
    },
    {
     "cell_type": "code",
     "collapsed": false,
     "input": [
      "class Error(Exception):\n",
      "    \"\"\" Base class for exceptions in this module.\"\"\"\n",
      "    pass\n",
      "\n",
      "class InputError(Error):\n",
      "    \"\"\" Exception raised for errors in the input.\n",
      "    \n",
      "    Attributes:\n",
      "        expr -- input expression in which the error occurred\n",
      "        msg  -- explanation of the error\n",
      "    \"\"\"\n",
      "    \n",
      "    def __init__(self, expr, msg):\n",
      "        self.expr = expr\n",
      "        self.msg = msg\n",
      "        \n",
      "class TransitionError(Error):\n",
      "    \"\"\" Raised when an operation attempts a state transition that's not\n",
      "    allowed.\n",
      "    \n",
      "    Attributes:\n",
      "        prev -- state at beginning of transition\n",
      "        next -- attempted new state\n",
      "        msg  -- explanation of why the specifi transition is not allowed\n",
      "    \"\"\"\n",
      "    \n",
      "    def __init__(self, prev, next, msg):\n",
      "        self.prev = prev\n",
      "        self.next = next\n",
      "        self.msg = msg\n",
      "    "
     ],
     "language": "python",
     "metadata": {},
     "outputs": []
    },
    {
     "cell_type": "markdown",
     "metadata": {},
     "source": [
      "Most exceptions are defined with names that end in \u201cError,\u201d similar to the naming of the standard exceptions.\n",
      "\n",
      "Many standard modules define their own exceptions to report errors that may occur in functions they define. More information on classes is presented in chapter [Classes](http://docs.python.org/2/tutorial/classes.html#tut-classes).\n",
      "\n",
      "8.6. Defining Clean-up Actions\n",
      "===\n",
      "The try statement has another optional clause which is intended to define clean-up actions that must be executed under all circumstances. For example:"
     ]
    },
    {
     "cell_type": "code",
     "collapsed": false,
     "input": [
      "try:\n",
      "    raise KeyboardInterrupt\n",
      "finally:\n",
      "    print 'Goodbye, world!'\n",
      "    "
     ],
     "language": "python",
     "metadata": {},
     "outputs": [
      {
       "ename": "KeyboardInterrupt",
       "evalue": "",
       "output_type": "pyerr",
       "traceback": [
        "\u001b[1;31m---------------------------------------------------------------------------\u001b[0m\n\u001b[1;31mKeyboardInterrupt\u001b[0m                         Traceback (most recent call last)",
        "\u001b[1;32m<ipython-input-17-87a3566ad1a2>\u001b[0m in \u001b[0;36m<module>\u001b[1;34m()\u001b[0m\n\u001b[0;32m      1\u001b[0m \u001b[1;32mtry\u001b[0m\u001b[1;33m:\u001b[0m\u001b[1;33m\u001b[0m\u001b[0m\n\u001b[1;32m----> 2\u001b[1;33m     \u001b[1;32mraise\u001b[0m \u001b[0mKeyboardInterrupt\u001b[0m\u001b[1;33m\u001b[0m\u001b[0m\n\u001b[0m\u001b[0;32m      3\u001b[0m \u001b[1;32mfinally\u001b[0m\u001b[1;33m:\u001b[0m\u001b[1;33m\u001b[0m\u001b[0m\n\u001b[0;32m      4\u001b[0m     \u001b[1;32mprint\u001b[0m \u001b[1;34m'Goodbye, world!'\u001b[0m\u001b[1;33m\u001b[0m\u001b[0m\n\u001b[0;32m      5\u001b[0m \u001b[1;33m\u001b[0m\u001b[0m\n",
        "\u001b[1;31mKeyboardInterrupt\u001b[0m: "
       ]
      },
      {
       "output_type": "stream",
       "stream": "stdout",
       "text": [
        "Goodbye, world!\n"
       ]
      }
     ],
     "prompt_number": 17
    },
    {
     "cell_type": "markdown",
     "metadata": {},
     "source": [
      "A finally clause is always executed before leaving the [try](http://docs.python.org/2/reference/compound_stmts.html#try) statement, whether an exception has occurred or not. When an exception has occurred in the [try](http://docs.python.org/2/reference/compound_stmts.html#try) clause and has not been handled by an [except](http://docs.python.org/2/reference/compound_stmts.html#except) clause (or it has occurred in a [except](http://docs.python.org/2/reference/compound_stmts.html#except) or [else](http://docs.python.org/2/reference/compound_stmts.html#else) clause), it is re-raised after the [finally](http://docs.python.org/2/reference/compound_stmts.html#finally) clause has been executed. The [finally](http://docs.python.org/2/reference/compound_stmts.html#finally) clause is also executed \u201con the way out\u201d when any other clause of the try statement is left via a [break](http://docs.python.org/2/reference/simple_stmts.html#break), [continue](http://docs.python.org/2/reference/simple_stmts.html#continue) or [return](http://docs.python.org/2/reference/simple_stmts.html#return) statement. A more complicated example (having [except](http://docs.python.org/2/reference/compound_stmts.html#except) and [finally](http://docs.python.org/2/reference/compound_stmts.html#finally) clauses in the same [try](http://docs.python.org/2/reference/compound_stmts.html#try) statement works as of Python 2.5):"
     ]
    },
    {
     "cell_type": "code",
     "collapsed": false,
     "input": [
      "def divide(x, y):\n",
      "    try:\n",
      "        result = x / y\n",
      "    except ZeroDivisionError:\n",
      "        print \"division by zero!\"\n",
      "    else:\n",
      "        print \"result is\", result\n",
      "    finally:\n",
      "        print \"executing finally clause\"\n",
      "        \n",
      "divide(2, 1)"
     ],
     "language": "python",
     "metadata": {},
     "outputs": [
      {
       "output_type": "stream",
       "stream": "stdout",
       "text": [
        "result is 2\n",
        "executing finally clause\n"
       ]
      }
     ],
     "prompt_number": 18
    },
    {
     "cell_type": "code",
     "collapsed": false,
     "input": [
      "divide(2, 0)"
     ],
     "language": "python",
     "metadata": {},
     "outputs": [
      {
       "output_type": "stream",
       "stream": "stdout",
       "text": [
        "division by zero!\n",
        "executing finally clause\n"
       ]
      }
     ],
     "prompt_number": 19
    },
    {
     "cell_type": "code",
     "collapsed": false,
     "input": [
      "divide('2', '1')"
     ],
     "language": "python",
     "metadata": {},
     "outputs": [
      {
       "ename": "TypeError",
       "evalue": "unsupported operand type(s) for /: 'str' and 'str'",
       "output_type": "pyerr",
       "traceback": [
        "\u001b[1;31m---------------------------------------------------------------------------\u001b[0m\n\u001b[1;31mTypeError\u001b[0m                                 Traceback (most recent call last)",
        "\u001b[1;32m<ipython-input-20-34bb38fa74fd>\u001b[0m in \u001b[0;36m<module>\u001b[1;34m()\u001b[0m\n\u001b[1;32m----> 1\u001b[1;33m \u001b[0mdivide\u001b[0m\u001b[1;33m(\u001b[0m\u001b[1;34m'2'\u001b[0m\u001b[1;33m,\u001b[0m \u001b[1;34m'1'\u001b[0m\u001b[1;33m)\u001b[0m\u001b[1;33m\u001b[0m\u001b[0m\n\u001b[0m",
        "\u001b[1;32m<ipython-input-18-4ea9ff258d20>\u001b[0m in \u001b[0;36mdivide\u001b[1;34m(x, y)\u001b[0m\n\u001b[0;32m      1\u001b[0m \u001b[1;32mdef\u001b[0m \u001b[0mdivide\u001b[0m\u001b[1;33m(\u001b[0m\u001b[0mx\u001b[0m\u001b[1;33m,\u001b[0m \u001b[0my\u001b[0m\u001b[1;33m)\u001b[0m\u001b[1;33m:\u001b[0m\u001b[1;33m\u001b[0m\u001b[0m\n\u001b[0;32m      2\u001b[0m     \u001b[1;32mtry\u001b[0m\u001b[1;33m:\u001b[0m\u001b[1;33m\u001b[0m\u001b[0m\n\u001b[1;32m----> 3\u001b[1;33m         \u001b[0mresult\u001b[0m \u001b[1;33m=\u001b[0m \u001b[0mx\u001b[0m \u001b[1;33m/\u001b[0m \u001b[0my\u001b[0m\u001b[1;33m\u001b[0m\u001b[0m\n\u001b[0m\u001b[0;32m      4\u001b[0m     \u001b[1;32mexcept\u001b[0m \u001b[0mZeroDivisionError\u001b[0m\u001b[1;33m:\u001b[0m\u001b[1;33m\u001b[0m\u001b[0m\n\u001b[0;32m      5\u001b[0m         \u001b[1;32mprint\u001b[0m \u001b[1;34m\"division by zero!\"\u001b[0m\u001b[1;33m\u001b[0m\u001b[0m\n",
        "\u001b[1;31mTypeError\u001b[0m: unsupported operand type(s) for /: 'str' and 'str'"
       ]
      },
      {
       "output_type": "stream",
       "stream": "stdout",
       "text": [
        "executing finally clause\n"
       ]
      }
     ],
     "prompt_number": 20
    },
    {
     "cell_type": "markdown",
     "metadata": {},
     "source": [
      "As you can see, the [finally](http://docs.python.org/2/reference/compound_stmts.html#finally) clause is executed in any event. The [TypeError](http://docs.python.org/2/library/exceptions.html#exceptions.TypeError) raised by dividing two strings is not handled by the [except](http://docs.python.org/2/reference/compound_stmts.html#except) clause and therefore re-raised after the finally clause has been executed.\n",
      "\n",
      "In real world applications, the [finally](http://docs.python.org/2/reference/compound_stmts.html#finally) clause is useful for releasing external resources (such as files or network connections), regardless of whether the use of the resource was successful.\n",
      "\n",
      "8.7. Predefined Clean-up Actions\n",
      "===\n",
      "Some objects define standard clean-up actions to be undertaken when the object is no longer needed, regardless of whether or not the operation using the object succeeded or failed. Look at the following example, which tries to open a file and print its contents to the screen."
     ]
    },
    {
     "cell_type": "code",
     "collapsed": false,
     "input": [
      "for line in open('data.txt'):\n",
      "    print line,"
     ],
     "language": "python",
     "metadata": {},
     "outputs": [
      {
       "output_type": "stream",
       "stream": "stdout",
       "text": [
        "1023456789abcdef2)\n"
       ]
      }
     ],
     "prompt_number": 21
    },
    {
     "cell_type": "markdown",
     "metadata": {},
     "source": [
      "The problem with this code is that it leaves the file open for an indeterminate amount of time after the code has finished executing. This is not an issue in simple scripts, but can be a problem for larger applications. The [with](http://docs.python.org/2/reference/compound_stmts.html#with) statement allows objects like files to be used in a way that ensures they are always cleaned up promptly and correctly."
     ]
    },
    {
     "cell_type": "code",
     "collapsed": false,
     "input": [
      "with open('data.txt') as f:\n",
      "    for line in f:\n",
      "        print line,"
     ],
     "language": "python",
     "metadata": {},
     "outputs": [
      {
       "output_type": "stream",
       "stream": "stdout",
       "text": [
        "1023456789abcdef2)\n"
       ]
      }
     ],
     "prompt_number": 22
    },
    {
     "cell_type": "markdown",
     "metadata": {},
     "source": [
      "After the statement is executed, the file _f_ is always closed, even if a problem was encountered while processing the lines. Other objects which provide predefined clean-up actions will indicate this in their documentation."
     ]
    },
    {
     "cell_type": "code",
     "collapsed": false,
     "input": [],
     "language": "python",
     "metadata": {},
     "outputs": []
    }
   ],
   "metadata": {}
  }
 ]
}