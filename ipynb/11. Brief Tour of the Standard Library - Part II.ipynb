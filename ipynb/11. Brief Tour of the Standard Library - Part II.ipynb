{
 "metadata": {
  "name": ""
 },
 "nbformat": 3,
 "nbformat_minor": 0,
 "worksheets": [
  {
   "cells": [
    {
     "cell_type": "markdown",
     "metadata": {},
     "source": [
      "This second tour covers more advanced modules that support professional programming needs. These modules rarely occur in small scripts.\n",
      "\n",
      "11.1. Output Formatting\n",
      "===\n",
      "The [repr](http://docs.python.org/2/library/repr.html#module-repr) module provides a version of [repr()](http://docs.python.org/2/library/repr.html#module-repr) customized for abbreviated displays of large or deeply nested containers:"
     ]
    },
    {
     "cell_type": "code",
     "collapsed": false,
     "input": [
      "import repr\n",
      "repr.repr(set('supercalifragilisticepialidocious'))"
     ],
     "language": "python",
     "metadata": {},
     "outputs": [
      {
       "metadata": {},
       "output_type": "pyout",
       "prompt_number": 1,
       "text": [
        "\"set(['a', 'c', 'd', 'e', 'f', 'g', ...])\""
       ]
      }
     ],
     "prompt_number": 1
    },
    {
     "cell_type": "markdown",
     "metadata": {},
     "source": [
      "The [pprint](http://docs.python.org/2/library/pprint.html#module-pprint) module offers more sophisticated control over printing both built-in and user defined objects in a way that is readable by the interpreter. When the result is longer than one line, the \u201cpretty printer\u201d adds line breaks and indentation to more clearly reveal data structure:"
     ]
    },
    {
     "cell_type": "code",
     "collapsed": false,
     "input": [
      "import pprint\n",
      "t = [[[['black', 'cyan'], 'white', ['green', 'red']], [['magenta', 'yellow'], 'blue']]]\n",
      "\n",
      "pprint.pprint(t, width=30)"
     ],
     "language": "python",
     "metadata": {},
     "outputs": [
      {
       "output_type": "stream",
       "stream": "stdout",
       "text": [
        "[[[['black', 'cyan'],\n",
        "   'white',\n",
        "   ['green', 'red']],\n",
        "  [['magenta', 'yellow'],\n",
        "   'blue']]]\n"
       ]
      }
     ],
     "prompt_number": 2
    },
    {
     "cell_type": "code",
     "collapsed": false,
     "input": [
      "pprint.pprint(t, width=60)"
     ],
     "language": "python",
     "metadata": {},
     "outputs": [
      {
       "output_type": "stream",
       "stream": "stdout",
       "text": [
        "[[[['black', 'cyan'], 'white', ['green', 'red']],\n",
        "  [['magenta', 'yellow'], 'blue']]]\n"
       ]
      }
     ],
     "prompt_number": 3
    },
    {
     "cell_type": "markdown",
     "metadata": {},
     "source": [
      "The [textwrap](http://docs.python.org/2/library/textwrap.html#module-textwrap) module formats paragraphs of text to fit a given screen width:"
     ]
    },
    {
     "cell_type": "code",
     "collapsed": false,
     "input": [
      "import textwrap\n",
      "doc = \"\"\"The wrap() method is just like fill() except that it returns\n",
      "    a list of strings instead of one big string with newlines to separate\n",
      "    the wrapped lines.\"\"\"\n",
      "print textwrap.fill(doc, width=40)"
     ],
     "language": "python",
     "metadata": {},
     "outputs": [
      {
       "output_type": "stream",
       "stream": "stdout",
       "text": [
        "The wrap() method is just like fill()\n",
        "except that it returns     a list of\n",
        "strings instead of one big string with\n",
        "newlines to separate     the wrapped\n",
        "lines.\n"
       ]
      }
     ],
     "prompt_number": 4
    },
    {
     "cell_type": "code",
     "collapsed": false,
     "input": [
      "print textwrap.fill(doc, width=60)"
     ],
     "language": "python",
     "metadata": {},
     "outputs": [
      {
       "output_type": "stream",
       "stream": "stdout",
       "text": [
        "The wrap() method is just like fill() except that it returns\n",
        "a list of strings instead of one big string with newlines to\n",
        "separate     the wrapped lines.\n"
       ]
      }
     ],
     "prompt_number": 5
    },
    {
     "cell_type": "markdown",
     "metadata": {},
     "source": [
      "The [locale](http://docs.python.org/2/library/locale.html#module-locale) module accesses a database of culture specific data formats. The grouping attribute of locale\u2019s format function provides a direct way of formatting numbers with group separators:"
     ]
    },
    {
     "cell_type": "code",
     "collapsed": false,
     "input": [
      "import locale\n",
      "locale.setlocale(locale.LC_ALL, 'en_US')"
     ],
     "language": "python",
     "metadata": {},
     "outputs": [
      {
       "metadata": {},
       "output_type": "pyout",
       "prompt_number": 17,
       "text": [
        "'en_US'"
       ]
      }
     ],
     "prompt_number": 17
    },
    {
     "cell_type": "code",
     "collapsed": false,
     "input": [
      "conv = locale.localeconv() # get a mapping of conventions\n",
      "x = 1234567.8\n",
      "locale.format(\"%d\", x, grouping=True)"
     ],
     "language": "python",
     "metadata": {},
     "outputs": [
      {
       "metadata": {},
       "output_type": "pyout",
       "prompt_number": 18,
       "text": [
        "'1,234,567'"
       ]
      }
     ],
     "prompt_number": 18
    },
    {
     "cell_type": "code",
     "collapsed": false,
     "input": [
      "locale.format_string(\"%s%.*f\", (conv['currency_symbol'], conv['frac_digits'], x), grouping=True)"
     ],
     "language": "python",
     "metadata": {},
     "outputs": [
      {
       "metadata": {},
       "output_type": "pyout",
       "prompt_number": 19,
       "text": [
        "'$1,234,567.80'"
       ]
      }
     ],
     "prompt_number": 19
    },
    {
     "cell_type": "markdown",
     "metadata": {},
     "source": [
      "11.2. Templating\n",
      "===\n",
      "The [string](http://docs.python.org/2/library/string.html#module-string) module includes a versatile [Template](http://docs.python.org/2/library/string.html#string.Template) class with a simplified syntax suitable for editing by end-users. This allows users to customize their applications without having to alter the application.\n",
      "\n",
      "The format uses placeholder names formed by `$` with valid Python identifiers (alphanumeric characters and underscores). Surrounding the placeholder with braces allows it to be followed by more alphanumeric letters with no intervening spaces. Writing `$$` creates a single escaped `$`:"
     ]
    },
    {
     "cell_type": "code",
     "collapsed": false,
     "input": [
      "from string import Template\n",
      "t = Template('${village}folk send $$10 to $cause.')\n",
      "t.substitute(village='Nottingham', cause='the ditch fund')"
     ],
     "language": "python",
     "metadata": {},
     "outputs": [
      {
       "metadata": {},
       "output_type": "pyout",
       "prompt_number": 20,
       "text": [
        "'Nottinghamfolk send $10 to the ditch fund.'"
       ]
      }
     ],
     "prompt_number": 20
    },
    {
     "cell_type": "markdown",
     "metadata": {},
     "source": [
      "The [substitute()](http://docs.python.org/2/library/string.html#string.Template.substitute) method raises a [KeyError](http://docs.python.org/2/library/exceptions.html#exceptions.KeyError) when a placeholder is not supplied in a dictionary or a keyword argument. For mail-merge style applications, user supplied data may be incomplete and the [safe_substitute()](http://docs.python.org/2/library/string.html#string.Template.safe_substitute) method may be more appropriate \u2014 it will leave placeholders unchanged if data is missing:"
     ]
    },
    {
     "cell_type": "code",
     "collapsed": false,
     "input": [
      "t = Template('Return the $item to $owner.')\n",
      "d = dict(item='unladen swallow')\n",
      "t.substitute(d)"
     ],
     "language": "python",
     "metadata": {},
     "outputs": [
      {
       "ename": "KeyError",
       "evalue": "'owner'",
       "output_type": "pyerr",
       "traceback": [
        "\u001b[1;31m---------------------------------------------------------------------------\u001b[0m\n\u001b[1;31mKeyError\u001b[0m                                  Traceback (most recent call last)",
        "\u001b[1;32m<ipython-input-21-aa21a55b2069>\u001b[0m in \u001b[0;36m<module>\u001b[1;34m()\u001b[0m\n\u001b[0;32m      1\u001b[0m \u001b[0mt\u001b[0m \u001b[1;33m=\u001b[0m \u001b[0mTemplate\u001b[0m\u001b[1;33m(\u001b[0m\u001b[1;34m'Return the $item to $owner.'\u001b[0m\u001b[1;33m)\u001b[0m\u001b[1;33m\u001b[0m\u001b[0m\n\u001b[0;32m      2\u001b[0m \u001b[0md\u001b[0m \u001b[1;33m=\u001b[0m \u001b[0mdict\u001b[0m\u001b[1;33m(\u001b[0m\u001b[0mitem\u001b[0m\u001b[1;33m=\u001b[0m\u001b[1;34m'unladen swallow'\u001b[0m\u001b[1;33m)\u001b[0m\u001b[1;33m\u001b[0m\u001b[0m\n\u001b[1;32m----> 3\u001b[1;33m \u001b[0mt\u001b[0m\u001b[1;33m.\u001b[0m\u001b[0msubstitute\u001b[0m\u001b[1;33m(\u001b[0m\u001b[0md\u001b[0m\u001b[1;33m)\u001b[0m\u001b[1;33m\u001b[0m\u001b[0m\n\u001b[0m",
        "\u001b[1;32m/usr/lib/python2.7/string.pyc\u001b[0m in \u001b[0;36msubstitute\u001b[1;34m(self, *args, **kws)\u001b[0m\n\u001b[0;32m    170\u001b[0m             raise ValueError('Unrecognized named group in pattern',\n\u001b[0;32m    171\u001b[0m                              self.pattern)\n\u001b[1;32m--> 172\u001b[1;33m         \u001b[1;32mreturn\u001b[0m \u001b[0mself\u001b[0m\u001b[1;33m.\u001b[0m\u001b[0mpattern\u001b[0m\u001b[1;33m.\u001b[0m\u001b[0msub\u001b[0m\u001b[1;33m(\u001b[0m\u001b[0mconvert\u001b[0m\u001b[1;33m,\u001b[0m \u001b[0mself\u001b[0m\u001b[1;33m.\u001b[0m\u001b[0mtemplate\u001b[0m\u001b[1;33m)\u001b[0m\u001b[1;33m\u001b[0m\u001b[0m\n\u001b[0m\u001b[0;32m    173\u001b[0m \u001b[1;33m\u001b[0m\u001b[0m\n\u001b[0;32m    174\u001b[0m     \u001b[1;32mdef\u001b[0m \u001b[0msafe_substitute\u001b[0m\u001b[1;33m(\u001b[0m\u001b[0mself\u001b[0m\u001b[1;33m,\u001b[0m \u001b[1;33m*\u001b[0m\u001b[0margs\u001b[0m\u001b[1;33m,\u001b[0m \u001b[1;33m**\u001b[0m\u001b[0mkws\u001b[0m\u001b[1;33m)\u001b[0m\u001b[1;33m:\u001b[0m\u001b[1;33m\u001b[0m\u001b[0m\n",
        "\u001b[1;32m/usr/lib/python2.7/string.pyc\u001b[0m in \u001b[0;36mconvert\u001b[1;34m(mo)\u001b[0m\n\u001b[0;32m    160\u001b[0m             \u001b[0mnamed\u001b[0m \u001b[1;33m=\u001b[0m \u001b[0mmo\u001b[0m\u001b[1;33m.\u001b[0m\u001b[0mgroup\u001b[0m\u001b[1;33m(\u001b[0m\u001b[1;34m'named'\u001b[0m\u001b[1;33m)\u001b[0m \u001b[1;32mor\u001b[0m \u001b[0mmo\u001b[0m\u001b[1;33m.\u001b[0m\u001b[0mgroup\u001b[0m\u001b[1;33m(\u001b[0m\u001b[1;34m'braced'\u001b[0m\u001b[1;33m)\u001b[0m\u001b[1;33m\u001b[0m\u001b[0m\n\u001b[0;32m    161\u001b[0m             \u001b[1;32mif\u001b[0m \u001b[0mnamed\u001b[0m \u001b[1;32mis\u001b[0m \u001b[1;32mnot\u001b[0m \u001b[0mNone\u001b[0m\u001b[1;33m:\u001b[0m\u001b[1;33m\u001b[0m\u001b[0m\n\u001b[1;32m--> 162\u001b[1;33m                 \u001b[0mval\u001b[0m \u001b[1;33m=\u001b[0m \u001b[0mmapping\u001b[0m\u001b[1;33m[\u001b[0m\u001b[0mnamed\u001b[0m\u001b[1;33m]\u001b[0m\u001b[1;33m\u001b[0m\u001b[0m\n\u001b[0m\u001b[0;32m    163\u001b[0m                 \u001b[1;31m# We use this idiom instead of str() because the latter will\u001b[0m\u001b[1;33m\u001b[0m\u001b[1;33m\u001b[0m\u001b[0m\n\u001b[0;32m    164\u001b[0m                 \u001b[1;31m# fail if val is a Unicode containing non-ASCII characters.\u001b[0m\u001b[1;33m\u001b[0m\u001b[1;33m\u001b[0m\u001b[0m\n",
        "\u001b[1;31mKeyError\u001b[0m: 'owner'"
       ]
      }
     ],
     "prompt_number": 21
    },
    {
     "cell_type": "code",
     "collapsed": false,
     "input": [
      "t.safe_substitute(d)"
     ],
     "language": "python",
     "metadata": {},
     "outputs": [
      {
       "metadata": {},
       "output_type": "pyout",
       "prompt_number": 22,
       "text": [
        "'Return the unladen swallow to $owner.'"
       ]
      }
     ],
     "prompt_number": 22
    },
    {
     "cell_type": "markdown",
     "metadata": {},
     "source": [
      "Template subclasses can specify a custom delimiter. For example, a batch renaming utility for a photo browser may elect to use percent signs for placeholders such as the current date, image sequence number, or file format:"
     ]
    },
    {
     "cell_type": "code",
     "collapsed": false,
     "input": [
      "import time, os.path\n",
      "photofiles = ['img_1074.jpg', 'img_1076.jpg', 'img_1077.jpg']\n",
      "class BatchRename(Template):\n",
      "    delimiter = '%'\n",
      "fmt = raw_input('Enter rename style (%d-date %n-sequm %f-format): ')"
     ],
     "language": "python",
     "metadata": {},
     "outputs": [
      {
       "name": "stdout",
       "output_type": "stream",
       "stream": "stdout",
       "text": [
        "Enter rename style (%d-date %n-sequm %f-format): Ashley_%n%f\n"
       ]
      }
     ],
     "prompt_number": 23
    },
    {
     "cell_type": "code",
     "collapsed": false,
     "input": [
      "t = BatchRename(fmt)\n",
      "date = time.strftime('%d%b%y')\n",
      "for i, filename in enumerate(photofiles):\n",
      "    base, ext = os.path.splitext(filename)\n",
      "    newname = t.substitute(d=date, n=i, f=ext)\n",
      "    print '{0}  --> {1}'.format(filename, newname)"
     ],
     "language": "python",
     "metadata": {},
     "outputs": [
      {
       "output_type": "stream",
       "stream": "stdout",
       "text": [
        "img_1074.jpg  --> Ashley_0.jpg\n",
        "img_1076.jpg  --> Ashley_1.jpg\n",
        "img_1077.jpg  --> Ashley_2.jpg\n"
       ]
      }
     ],
     "prompt_number": 24
    },
    {
     "cell_type": "markdown",
     "metadata": {},
     "source": [
      "Another application for templating is separating program logic from the details of multiple output formats. This makes it possible to substitute custom templates for XML files, plain text reports, and HTML web reports.\n",
      "\n",
      "11.3. Working with Binary Data Record Layouts\n",
      "===\n",
      "The [struct](http://docs.python.org/2/library/struct.html#module-struct) module provides [pack()](http://docs.python.org/2/library/struct.html#struct.pack) and [unpack()](http://docs.python.org/2/library/struct.html#struct.unpack) functions for working with variable length binary record formats. The following example shows how to loop through header information in a ZIP file without using the [zipfile](http://docs.python.org/2/library/zipfile.html#module-zipfile) module. Pack codes `\"H\"` and `\"I\"` represent two and four byte unsigned numbers respectively. The `\"<\"` indicates that they are standard size and in little-endian byte order:"
     ]
    },
    {
     "cell_type": "code",
     "collapsed": false,
     "input": [
      "import zlib\n",
      "myfile = \"\"\"1234\n",
      "5678\n",
      "91011\n",
      "121314\"\"\"\n",
      "len(myfile)"
     ],
     "language": "python",
     "metadata": {},
     "outputs": [
      {
       "metadata": {},
       "output_type": "pyout",
       "prompt_number": 25,
       "text": [
        "22"
       ]
      }
     ],
     "prompt_number": 25
    },
    {
     "cell_type": "code",
     "collapsed": false,
     "input": [
      "myfilezip = zlib.compress(myfile)\n",
      "len(myfilezip)"
     ],
     "language": "python",
     "metadata": {},
     "outputs": [
      {
       "metadata": {},
       "output_type": "pyout",
       "prompt_number": 27,
       "text": [
        "30"
       ]
      }
     ],
     "prompt_number": 27
    },
    {
     "cell_type": "code",
     "collapsed": false,
     "input": [
      "import struct\n",
      "data = open(myfilezip, 'rb').read()\n",
      "start = 0\n",
      "\n",
      "for i in range(3): # show the first 3 file headers\n",
      "    start += struct.unpack('<IIHH', data[start:start+16])\n",
      "    crc32, comp_size, uncomp_size, filenamesize, extra_size = fields\n",
      "    \n",
      "    start += 16\n",
      "    filename = data[start:start+filenamesize]\n",
      "    start += filenamesize\n",
      "    extra = data[start:start+extra_size]\n",
      "    print filename, hex(crc32), comp_size, uncomp_size\n",
      "    \n",
      "    start += extra_size + comp_size # skip to the next header"
     ],
     "language": "python",
     "metadata": {},
     "outputs": [
      {
       "ename": "TypeError",
       "evalue": "file() argument 1 must be encoded string without NULL bytes, not str",
       "output_type": "pyerr",
       "traceback": [
        "\u001b[1;31m---------------------------------------------------------------------------\u001b[0m\n\u001b[1;31mTypeError\u001b[0m                                 Traceback (most recent call last)",
        "\u001b[1;32m<ipython-input-28-4b88b07eb91f>\u001b[0m in \u001b[0;36m<module>\u001b[1;34m()\u001b[0m\n\u001b[0;32m      1\u001b[0m \u001b[1;32mimport\u001b[0m \u001b[0mstruct\u001b[0m\u001b[1;33m\u001b[0m\u001b[0m\n\u001b[1;32m----> 2\u001b[1;33m \u001b[0mdata\u001b[0m \u001b[1;33m=\u001b[0m \u001b[0mopen\u001b[0m\u001b[1;33m(\u001b[0m\u001b[0mmyfilezip\u001b[0m\u001b[1;33m,\u001b[0m \u001b[1;34m'rb'\u001b[0m\u001b[1;33m)\u001b[0m\u001b[1;33m.\u001b[0m\u001b[0mread\u001b[0m\u001b[1;33m(\u001b[0m\u001b[1;33m)\u001b[0m\u001b[1;33m\u001b[0m\u001b[0m\n\u001b[0m\u001b[0;32m      3\u001b[0m \u001b[0mstart\u001b[0m \u001b[1;33m=\u001b[0m \u001b[1;36m0\u001b[0m\u001b[1;33m\u001b[0m\u001b[0m\n\u001b[0;32m      4\u001b[0m \u001b[1;33m\u001b[0m\u001b[0m\n\u001b[0;32m      5\u001b[0m \u001b[1;32mfor\u001b[0m \u001b[0mi\u001b[0m \u001b[1;32min\u001b[0m \u001b[0mrange\u001b[0m\u001b[1;33m(\u001b[0m\u001b[1;36m3\u001b[0m\u001b[1;33m)\u001b[0m\u001b[1;33m:\u001b[0m \u001b[1;31m# show the first 3 file headers\u001b[0m\u001b[1;33m\u001b[0m\u001b[0m\n",
        "\u001b[1;31mTypeError\u001b[0m: file() argument 1 must be encoded string without NULL bytes, not str"
       ]
      }
     ],
     "prompt_number": 28
    },
    {
     "cell_type": "markdown",
     "metadata": {},
     "source": [
      "11.4. Multi-threading\n",
      "===\n",
      "Threading is a technique for decoupling tasks which are not sequentially dependent. Threads can be used to improve the responsiveness of applications that accept user input while other tasks run in the background. A related use case is running I/O in parallel with computations in another thread.\n",
      "\n",
      "The following code shows how the high level [threading](http://docs.python.org/2/library/threading.html#module-threading) module can run tasks in background while the main program continues to run:"
     ]
    },
    {
     "cell_type": "code",
     "collapsed": false,
     "input": [],
     "language": "python",
     "metadata": {},
     "outputs": []
    }
   ],
   "metadata": {}
  }
 ]
}