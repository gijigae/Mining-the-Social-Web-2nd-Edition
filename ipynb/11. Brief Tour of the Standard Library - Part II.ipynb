{
 "metadata": {
  "name": ""
 },
 "nbformat": 3,
 "nbformat_minor": 0,
 "worksheets": [
  {
   "cells": [
    {
     "cell_type": "markdown",
     "metadata": {},
     "source": [
      "This second tour covers more advanced modules that support professional programming needs. These modules rarely occur in small scripts.\n",
      "\n",
      "11.1. Output Formatting\n",
      "===\n",
      "The [repr](http://docs.python.org/2/library/repr.html#module-repr) module provides a version of [repr()](http://docs.python.org/2/library/repr.html#module-repr) customized for abbreviated displays of large or deeply nested containers:"
     ]
    },
    {
     "cell_type": "code",
     "collapsed": false,
     "input": [
      "import repr\n",
      "repr.repr(set('supercalifragilisticepialidocious'))"
     ],
     "language": "python",
     "metadata": {},
     "outputs": [
      {
       "metadata": {},
       "output_type": "pyout",
       "prompt_number": 1,
       "text": [
        "\"set(['a', 'c', 'd', 'e', 'f', 'g', ...])\""
       ]
      }
     ],
     "prompt_number": 1
    },
    {
     "cell_type": "markdown",
     "metadata": {},
     "source": [
      "The [pprint](http://docs.python.org/2/library/pprint.html#module-pprint) module offers more sophisticated control over printing both built-in and user defined objects in a way that is readable by the interpreter. When the result is longer than one line, the \u201cpretty printer\u201d adds line breaks and indentation to more clearly reveal data structure:"
     ]
    },
    {
     "cell_type": "code",
     "collapsed": false,
     "input": [
      "import pprint\n",
      "t = [[[['black', 'cyan'], 'white', ['green', 'red']], [['magenta', 'yellow'], 'blue']]]\n",
      "\n",
      "pprint.pprint(t, width=30)"
     ],
     "language": "python",
     "metadata": {},
     "outputs": [
      {
       "output_type": "stream",
       "stream": "stdout",
       "text": [
        "[[[['black', 'cyan'],\n",
        "   'white',\n",
        "   ['green', 'red']],\n",
        "  [['magenta', 'yellow'],\n",
        "   'blue']]]\n"
       ]
      }
     ],
     "prompt_number": 2
    },
    {
     "cell_type": "code",
     "collapsed": false,
     "input": [
      "pprint.pprint(t, width=60)"
     ],
     "language": "python",
     "metadata": {},
     "outputs": [
      {
       "output_type": "stream",
       "stream": "stdout",
       "text": [
        "[[[['black', 'cyan'], 'white', ['green', 'red']],\n",
        "  [['magenta', 'yellow'], 'blue']]]\n"
       ]
      }
     ],
     "prompt_number": 3
    },
    {
     "cell_type": "markdown",
     "metadata": {},
     "source": [
      "The [textwrap](http://docs.python.org/2/library/textwrap.html#module-textwrap) module formats paragraphs of text to fit a given screen width:"
     ]
    },
    {
     "cell_type": "code",
     "collapsed": false,
     "input": [
      "import textwrap\n",
      "doc = \"\"\"The wrap() method is just like fill() except that it returns\n",
      "    a list of strings instead of one big string with newlines to separate\n",
      "    the wrapped lines.\"\"\"\n",
      "print textwrap.fill(doc, width=40)"
     ],
     "language": "python",
     "metadata": {},
     "outputs": [
      {
       "output_type": "stream",
       "stream": "stdout",
       "text": [
        "The wrap() method is just like fill()\n",
        "except that it returns     a list of\n",
        "strings instead of one big string with\n",
        "newlines to separate     the wrapped\n",
        "lines.\n"
       ]
      }
     ],
     "prompt_number": 4
    },
    {
     "cell_type": "code",
     "collapsed": false,
     "input": [
      "print textwrap.fill(doc, width=60)"
     ],
     "language": "python",
     "metadata": {},
     "outputs": [
      {
       "output_type": "stream",
       "stream": "stdout",
       "text": [
        "The wrap() method is just like fill() except that it returns\n",
        "a list of strings instead of one big string with newlines to\n",
        "separate     the wrapped lines.\n"
       ]
      }
     ],
     "prompt_number": 5
    },
    {
     "cell_type": "markdown",
     "metadata": {},
     "source": [
      "The [locale](http://docs.python.org/2/library/locale.html#module-locale) module accesses a database of culture specific data formats. The grouping attribute of locale\u2019s format function provides a direct way of formatting numbers with group separators:"
     ]
    },
    {
     "cell_type": "code",
     "collapsed": false,
     "input": [
      "import locale\n",
      "locale.setlocale(locale.LC_ALL, 'en_US')"
     ],
     "language": "python",
     "metadata": {},
     "outputs": [
      {
       "metadata": {},
       "output_type": "pyout",
       "prompt_number": 17,
       "text": [
        "'en_US'"
       ]
      }
     ],
     "prompt_number": 17
    },
    {
     "cell_type": "code",
     "collapsed": false,
     "input": [
      "conv = locale.localeconv() # get a mapping of conventions\n",
      "x = 1234567.8\n",
      "locale.format(\"%d\", x, grouping=True)"
     ],
     "language": "python",
     "metadata": {},
     "outputs": [
      {
       "metadata": {},
       "output_type": "pyout",
       "prompt_number": 18,
       "text": [
        "'1,234,567'"
       ]
      }
     ],
     "prompt_number": 18
    },
    {
     "cell_type": "code",
     "collapsed": false,
     "input": [
      "locale.format_string(\"%s%.*f\", (conv['currency_symbol'], conv['frac_digits'], x), grouping=True)"
     ],
     "language": "python",
     "metadata": {},
     "outputs": [
      {
       "metadata": {},
       "output_type": "pyout",
       "prompt_number": 19,
       "text": [
        "'$1,234,567.80'"
       ]
      }
     ],
     "prompt_number": 19
    },
    {
     "cell_type": "markdown",
     "metadata": {},
     "source": [
      "11.2. Templating\n",
      "===\n",
      "The [string](http://docs.python.org/2/library/string.html#module-string) module includes a versatile [Template](http://docs.python.org/2/library/string.html#string.Template) class with a simplified syntax suitable for editing by end-users. This allows users to customize their applications without having to alter the application.\n",
      "\n",
      "The format uses placeholder names formed by `$` with valid Python identifiers (alphanumeric characters and underscores). Surrounding the placeholder with braces allows it to be followed by more alphanumeric letters with no intervening spaces. Writing `$$` creates a single escaped `$`:"
     ]
    },
    {
     "cell_type": "code",
     "collapsed": false,
     "input": [
      "from string import Template\n",
      "t = Template('${village}folk send $$10 to $cause.')\n",
      "t.substitute(village='Nottingham', cause='the ditch fund')"
     ],
     "language": "python",
     "metadata": {},
     "outputs": [
      {
       "metadata": {},
       "output_type": "pyout",
       "prompt_number": 20,
       "text": [
        "'Nottinghamfolk send $10 to the ditch fund.'"
       ]
      }
     ],
     "prompt_number": 20
    },
    {
     "cell_type": "markdown",
     "metadata": {},
     "source": [
      "The [substitute()](http://docs.python.org/2/library/string.html#string.Template.substitute) method raises a [KeyError](http://docs.python.org/2/library/exceptions.html#exceptions.KeyError) when a placeholder is not supplied in a dictionary or a keyword argument. For mail-merge style applications, user supplied data may be incomplete and the [safe_substitute()](http://docs.python.org/2/library/string.html#string.Template.safe_substitute) method may be more appropriate \u2014 it will leave placeholders unchanged if data is missing:"
     ]
    },
    {
     "cell_type": "code",
     "collapsed": false,
     "input": [],
     "language": "python",
     "metadata": {},
     "outputs": []
    }
   ],
   "metadata": {}
  }
 ]
}