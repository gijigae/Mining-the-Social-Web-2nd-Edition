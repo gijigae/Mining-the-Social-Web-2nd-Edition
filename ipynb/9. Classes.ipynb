{
 "metadata": {
  "name": ""
 },
 "nbformat": 3,
 "nbformat_minor": 0,
 "worksheets": [
  {
   "cells": [
    {
     "cell_type": "markdown",
     "metadata": {},
     "source": [
      "Compared with other programming languages, Python\u2019s class mechanism adds classes with a minimum of new syntax and semantics. It is a mixture of the class mechanisms found in C++ and Modula-3. Python classes provide all the standard features of Object Oriented Programming: the class inheritance mechanism allows multiple base classes, a derived class can override any methods of its base class or classes, and a method can call the method of a base class with the same name. Objects can contain arbitrary amounts and kinds of data. As is true for modules, classes partake of the dynamic nature of Python: they are created at runtime, and can be modified further after creation.\n",
      "\n",
      "In C++ terminology, normally class members (including the data members) are public (except see below [Private Variables and Class-local References](http://docs.python.org/2/tutorial/classes.html#tut-private)), and all member functions are _virtual_. As in Modula-3, there are no shorthands for referencing the object\u2019s members from its methods: the method function is declared with an explicit first argument representing the object, which is provided implicitly by the call. As in Smalltalk, classes themselves are objects. This provides semantics for importing and renaming. Unlike C++ and Modula-3, built-in types can be used as base classes for extension by the user. Also, like in C++, most built-in operators with special syntax (arithmetic operators, subscripting etc.) can be redefined for class instances.\n",
      "\n",
      "(Lacking universally accepted terminology to talk about classes, I will make occasional use of Smalltalk and C++ terms. I would use Modula-3 terms, since its object-oriented semantics are closer to those of Python than C++, but I expect that few readers have heard of it.)\n",
      "\n",
      "9.1. A Word About Names and Objects\n",
      "===\n",
      "Objects have individuality, and multiple names (in multiple scopes) can be bound to the same object. This is known as aliasing in other languages. This is usually not appreciated on a first glance at Python, and can be safely ignored when dealing with immutable basic types (numbers, strings, tuples). However, aliasing has a possibly surprising effect on the semantics of Python code involving mutable objects such as lists, dictionaries, and most other types. This is usually used to the benefit of the program, since aliases behave like pointers in some respects. For example, passing an object is cheap since only a pointer is passed by the implementation; and if a function modifies an object passed as an argument, the caller will see the change \u2014 this eliminates the need for two different argument passing mechanisms as in Pascal.\n",
      "\n",
      "9.2. Python Scopes and Namespaces\n",
      "===\n",
      "Before introducing classes, I first have to tell you something about Python\u2019s scope rules. Class definitions play some neat tricks with namespaces, and you need to know how scopes and namespaces work to fully understand what\u2019s going on. Incidentally, knowledge about this subject is useful for any advanced Python programmer.\n",
      "\n",
      "Let\u2019s begin with some definitions.\n",
      "\n",
      "A namespace is a mapping from names to objects. Most namespaces are currently implemented as Python dictionaries, but that\u2019s normally not noticeable in any way (except for performance), and it may change in the future. Examples of namespaces are: the set of built-in names (containing functions such as [abs()](http://docs.python.org/2/library/functions.html#abs), and built-in exception names); the global names in a module; and the local names in a function invocation. In a sense the set of attributes of an object also form a namespace. The important thing to know about namespaces is that there is absolutely no relation between names in different namespaces; for instance, two different modules may both define a function `maximize` without confusion \u2014 users of the modules must prefix it with the module name.\n",
      "\n",
      "By the way, I use the word _attribute_ for any name following a dot \u2014 for example, in the expression `z.real`, `real` is an attribute of the object `z`. Strictly speaking, references to names in modules are attribute references: in the expression `modname.funcname`, `modname` is a module object and `funcname` is an attribute of it. In this case there happens to be a straightforward mapping between the module\u2019s attributes and the global names defined in the module: they share the same namespace! [1]\n",
      "\n",
      "Attributes may be read-only or writable. In the latter case, assignment to attributes is possible. Module attributes are writable: you can write `modname.the_answer = 42`. Writable attributes may also be deleted with the [del](http://docs.python.org/2/reference/simple_stmts.html#del) statement. For example, `del modname.the_answer` will remove the attribute `the_answer` from the object named by `modname`.\n",
      "\n",
      "Namespaces are created at different moments and have different lifetimes. The namespace containing the built-in names is created when the Python interpreter starts up, and is never deleted. The global namespace for a module is created when the module definition is read in; normally, module namespaces also last until the interpreter quits. The statements executed by the top-level invocation of the interpreter, either read from a script file or interactively, are considered part of a module called [`__main__`](http://docs.python.org/2/library/__main__.html#module-__main__), so they have their own global namespace. (The built-in names actually also live in a module; this is called [`__builtin__`](http://docs.python.org/2/library/__builtin__.html#module-__builtin__).)\n",
      "\n",
      "The local namespace for a function is created when the function is called, and deleted when the function returns or raises an exception that is not handled within the function. (Actually, forgetting would be a better way to describe what actually happens.) Of course, recursive invocations each have their own local namespace.\n",
      "\n",
      "A _scope_ is a textual region of a Python program where a namespace is directly accessible. \u201cDirectly accessible\u201d here means that an unqualified reference to a name attempts to find the name in the namespace.\n",
      "\n",
      "Although scopes are determined statically, they are used dynamically. At any time during execution, there are at least three nested scopes whose namespaces are directly accessible:\n",
      "\n",
      "* the innermost scope, which is searched first, contains the local names\n",
      "* the scopes of any enclosing functions, which are searched starting with the nearest enclosing scope, contains non-local, but also non-global names\n",
      "* the next-to-last scope contains the current module\u2019s global names\n",
      "* the outermost scope (searched last) is the namespace containing built-in names\n",
      "\n",
      "If a name is declared global, then all references and assignments go directly to the middle scope containing the module\u2019s global names. Otherwise, all variables found outside of the innermost scope are read-only (an attempt to write to such a variable will simply create a _new_ local variable in the innermost scope, leaving the identically named outer variable unchanged).\n",
      "\n",
      "Usually, the local scope references the local names of the (textually) current function. Outside functions, the local scope references the same namespace as the global scope: the module\u2019s namespace. Class definitions place yet another namespace in the local scope.\n",
      "\n",
      "It is important to realize that scopes are determined textually: the global scope of a function defined in a module is that module\u2019s namespace, no matter from where or by what alias the function is called. On the other hand, the actual search for names is done dynamically, at run time \u2014 however, the language definition is evolving towards static name resolution, at \u201ccompile\u201d time, so don\u2019t rely on dynamic name resolution! (In fact, local variables are already determined statically.)\n",
      "\n",
      "A special quirk of Python is that \u2013 if no [global](http://docs.python.org/2/reference/simple_stmts.html#global) statement is in effect \u2013 assignments to names always go into the innermost scope. Assignments do not copy data \u2014 they just bind names to objects. The same is true for deletions: the statement `del x` removes the binding of `x` from the namespace referenced by the local scope. In fact, all operations that introduce new names use the local scope: in particular, [import](http://docs.python.org/2/reference/simple_stmts.html#import) statements and function definitions bind the module or function name in the local scope. (The global statement can be used to indicate that particular variables live in the [global](http://docs.python.org/2/reference/simple_stmts.html#global) scope.)\n",
      "\n",
      "9.3. A First Look at Classes\n",
      "===\n",
      "Classes introduce a little bit of new syntax, three new object types, and some new semantics.\n",
      "\n",
      "9.3.1. Class Definition Syntax\n",
      "---\n",
      "The simplest form of class definition looks like this:\n",
      "\n",
      "\n",
      "\n"
     ]
    },
    {
     "cell_type": "code",
     "collapsed": false,
     "input": [
      "class ClassName:\n",
      "    <statement-1>\n",
      "    .\n",
      "    .\n",
      "    .\n",
      "    <statement-N>"
     ],
     "language": "python",
     "metadata": {},
     "outputs": []
    },
    {
     "cell_type": "markdown",
     "metadata": {},
     "source": [
      "Class definitions, like function definitions ([def](http://docs.python.org/2/reference/compound_stmts.html#def) statements) must be executed before they have any effect. (You could conceivably place a class definition in a branch of an [if](http://docs.python.org/2/reference/compound_stmts.html#if) statement, or inside a function.)\n",
      "\n",
      "In practice, the statements inside a class definition will usually be function definitions, but other statements are allowed, and sometimes useful \u2014 we\u2019ll come back to this later. The function definitions inside a class normally have a peculiar form of argument list, dictated by the calling conventions for methods \u2014 again, this is explained later.\n",
      "\n",
      "When a class definition is entered, a new namespace is created, and used as the local scope \u2014 thus, all assignments to local variables go into this new namespace. In particular, function definitions bind the name of the new function here.\n",
      "\n",
      "When a class definition is left normally (via the end), a _class object_ is created. This is basically a wrapper around the contents of the namespace created by the class definition; we\u2019ll learn more about class objects in the next section. The original local scope (the one in effect just before the class definition was entered) is reinstated, and the class object is bound here to the class name given in the class definition header (**ClassName** in the example).\n",
      "\n",
      "9.3.2. Class Objects\n",
      "---\n",
      "Class objects support two kinds of operations: attribute references and instantiation.\n",
      "\n",
      "_Attribute references_ use the standard syntax used for all attribute references in Python: `obj.name`. Valid attribute names are all the names that were in the class\u2019s namespace when the class object was created. So, if the class definition looked like this:"
     ]
    },
    {
     "cell_type": "code",
     "collapsed": false,
     "input": [],
     "language": "python",
     "metadata": {},
     "outputs": []
    }
   ],
   "metadata": {}
  }
 ]
}