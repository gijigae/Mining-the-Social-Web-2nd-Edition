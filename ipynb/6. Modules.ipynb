{
 "metadata": {
  "name": ""
 },
 "nbformat": 3,
 "nbformat_minor": 0,
 "worksheets": [
  {
   "cells": [
    {
     "cell_type": "markdown",
     "metadata": {},
     "source": [
      "If you quit from the Python interpreter and enter it again, the definitions you have made (functions and variables) are lost. Therefore, if you want to write a somewhat longer program, you are better off using a text editor to prepare the input for the interpreter and running it with that file as input instead. This is known as creating a script. As your program gets longer, you may want to split it into several files for easier maintenance. You may also want to use a handy function that you\u2019ve written in several programs without copying its definition into each program.\n",
      "\n",
      "To support this, Python has a way to put definitions in a file and use them in a script or in an interactive instance of the interpreter. Such a file is called a module; definitions from a module can be imported into other modules or into the main module (the collection of variables that you have access to in a script executed at the top level and in calculator mode).\n",
      "\n",
      "A module is a file containing Python definitions and statements. The file name is the module name with the suffix .py appended. Within a module, the module\u2019s name (as a string) is available as the value of the global variable `__name__`. For instance, use your favorite text editor to create a file called fibo.py in the current directory with the following contents:"
     ]
    },
    {
     "cell_type": "code",
     "collapsed": false,
     "input": [
      "# Fibonaci numbers module\n",
      "def fib(n): # write Fibonacci series up to n\n",
      "    a, b = 0, 1\n",
      "    while b < n:\n",
      "        print b,\n",
      "        a, b = b, a + b\n",
      "\n",
      "def fib2(n): # return Fibonacci series up to n\n",
      "    result = []\n",
      "    a, b = 0, 1\n",
      "    while b < n:\n",
      "        result.append(b)\n",
      "        a, b = b, a + b\n",
      "    return result\n"
     ],
     "language": "python",
     "metadata": {},
     "outputs": [],
     "prompt_number": 4
    },
    {
     "cell_type": "markdown",
     "metadata": {},
     "source": [
      "Now enter the Python interpreter and import this module with the following command:"
     ]
    },
    {
     "cell_type": "code",
     "collapsed": false,
     "input": [
      "# import fibo"
     ],
     "language": "python",
     "metadata": {},
     "outputs": []
    },
    {
     "cell_type": "markdown",
     "metadata": {},
     "source": [
      "This does not enter the names of the functions defined in `fibo` directly in the current symbol table; it only enters the module name `fibo` there. Using the module name you can access the functions:"
     ]
    },
    {
     "cell_type": "code",
     "collapsed": false,
     "input": [
      "fib(1000)"
     ],
     "language": "python",
     "metadata": {},
     "outputs": [
      {
       "output_type": "stream",
       "stream": "stdout",
       "text": [
        "1 1 2 3 5 8 13 21 34 55 89 144 233 377 610 987\n"
       ]
      }
     ],
     "prompt_number": 5
    },
    {
     "cell_type": "code",
     "collapsed": false,
     "input": [
      "fib2(100)"
     ],
     "language": "python",
     "metadata": {},
     "outputs": [
      {
       "metadata": {},
       "output_type": "pyout",
       "prompt_number": 6,
       "text": [
        "[1, 1, 2, 3, 5, 8, 13, 21, 34, 55, 89]"
       ]
      }
     ],
     "prompt_number": 6
    },
    {
     "cell_type": "code",
     "collapsed": false,
     "input": [
      "# fibo.__name__"
     ],
     "language": "python",
     "metadata": {},
     "outputs": []
    },
    {
     "cell_type": "markdown",
     "metadata": {},
     "source": [
      "If you intend to use a function often you can assign it to a local name:"
     ]
    },
    {
     "cell_type": "code",
     "collapsed": false,
     "input": [
      "# fib = fibo.fib\n",
      "fib(500)"
     ],
     "language": "python",
     "metadata": {},
     "outputs": [
      {
       "output_type": "stream",
       "stream": "stdout",
       "text": [
        "1 1 2 3 5 8 13 21 34 55 89 144 233 377\n"
       ]
      }
     ],
     "prompt_number": 7
    },
    {
     "cell_type": "markdown",
     "metadata": {},
     "source": [
      "6.1. More on Modules\n",
      "===\n",
      "A module can contain executable statements as well as function definitions. These statements are intended to initialize the module. They are executed only the first time the module name is encountered in an import statement. [1] (They are also run if the file is executed as a script.)\n",
      "\n",
      "Each module has its own private symbol table, which is used as the global symbol table by all functions defined in the module. Thus, the author of a module can use global variables in the module without worrying about accidental clashes with a user\u2019s global variables. On the other hand, if you know what you are doing you can touch a module\u2019s global variables with the same notation used to refer to its functions, `modname.itemname`.\n",
      "\n",
      "Modules can import other modules. It is customary but not required to place all `import` statements at the beginning of a module (or script, for that matter). The imported module names are placed in the importing module\u2019s global symbol table.\n",
      "\n",
      "There is a variant of the `import` statement that imports names from a module directly into the importing module\u2019s symbol table. For example:"
     ]
    },
    {
     "cell_type": "code",
     "collapsed": false,
     "input": [
      "# from fibo import fib, fib2\n",
      "fib(500)"
     ],
     "language": "python",
     "metadata": {},
     "outputs": [
      {
       "output_type": "stream",
       "stream": "stdout",
       "text": [
        "1 1 2 3 5 8 13 21 34 55 89 144 233 377\n"
       ]
      }
     ],
     "prompt_number": 8
    },
    {
     "cell_type": "markdown",
     "metadata": {},
     "source": [
      "This does not introduce the module name from which the imports are taken in the local symbol table (so in the example, `fibo` is not defined).\n",
      "\n",
      "There is even a variant to import all names that a module defines:"
     ]
    },
    {
     "cell_type": "code",
     "collapsed": false,
     "input": [
      "# from fibo import *\n",
      "fib(500)"
     ],
     "language": "python",
     "metadata": {},
     "outputs": [
      {
       "output_type": "stream",
       "stream": "stdout",
       "text": [
        "1 1 2 3 5 8 13 21 34 55 89 144 233 377\n"
       ]
      }
     ],
     "prompt_number": 9
    },
    {
     "cell_type": "markdown",
     "metadata": {},
     "source": [
      "This imports all names except those beginning with an underscore (_).\n",
      "\n",
      "Note that in general the practice of importing `*` from a module or package is frowned upon, since it often causes poorly readable code. However, it is okay to use it to save typing in interactive sessions.\n",
      "\n",
      "**Note:** For efficiency reasons, each module is only imported once per interpreter session. Therefore, if you change your modules, you must restart the interpreter \u2013 or, if it\u2019s just one module you want to test interactively, use `reload()`, e.g. `reload(modulename)`.\n",
      "\n",
      "6.1.1. Executing modules as scripts\n",
      "---\n",
      "When you run a Python module with"
     ]
    },
    {
     "cell_type": "code",
     "collapsed": false,
     "input": [
      "# python fibo.py <arguments>"
     ],
     "language": "python",
     "metadata": {},
     "outputs": []
    },
    {
     "cell_type": "markdown",
     "metadata": {},
     "source": [
      "the code in the module will be executed, just as if you imported it, but with the `__name__` set to `\"__main__\"`. That means that by adding this code at the end of your module:"
     ]
    },
    {
     "cell_type": "code",
     "collapsed": false,
     "input": [
      "if __name__ == \"__main__\":\n",
      "    import sys\n",
      "    fib(int(sys.argv[1]))"
     ],
     "language": "python",
     "metadata": {},
     "outputs": []
    },
    {
     "cell_type": "markdown",
     "metadata": {},
     "source": [
      "you can make the file usable as a script as well as an importable module, because the code that parses the command line only runs if the module is executed as the \u201cmain\u201d file:"
     ]
    },
    {
     "cell_type": "code",
     "collapsed": false,
     "input": [
      "# python fibo.py 50"
     ],
     "language": "python",
     "metadata": {},
     "outputs": []
    },
    {
     "cell_type": "markdown",
     "metadata": {},
     "source": [
      "If the module is imported, the code is not run:"
     ]
    },
    {
     "cell_type": "code",
     "collapsed": false,
     "input": [
      "import fibo"
     ],
     "language": "python",
     "metadata": {},
     "outputs": []
    },
    {
     "cell_type": "markdown",
     "metadata": {},
     "source": [
      "This is often used either to provide a convenient user interface to a module, or for testing purposes (running the module as a script executes a test suite).\n",
      "\n",
      "6.1.2. The Module Search Path\n",
      "---\n",
      "When a module named `spam` is imported, the interpreter first searches for a built-in module with that name. If not found, it then searches for a file named `spam.py` in a list of directories given by the variable `sys.path`. `sys.path` is initialized from these locations:\n",
      "\n",
      "* the directory containing the input script (or the current directory).\n",
      "* **PYTHONPATH** (a list of directory names, with the same syntax as the shell variable **PATH**).\n",
      "* the installation-dependent default.\n",
      "\n",
      "After initialization, Python programs can modify `sys.path`. The directory containing the script being run is placed at the beginning of the search path, ahead of the standard library path. This means that scripts in that directory will be loaded instead of modules of the same name in the library directory. This is an error unless the replacement is intended. See section [**Standard Modules**](http://docs.python.org/2/tutorial/modules.html#tut-standardmodules) for more information.\n",
      "\n",
      "6.1.3. \u201cCompiled\u201d Python files\n",
      "---\n",
      "As an important speed-up of the start-up time for short programs that use a lot of standard modules, if a file called `spam.pyc` exists in the directory where `spam.py` is found, this is assumed to contain an already-\u201cbyte-compiled\u201d version of the module spam. The modification time of the version of `spam.py` used to create `spam.pyc` is recorded in spam.pyc, and the `.pyc` file is ignored if these don\u2019t match.\n",
      "\n",
      "Normally, you don\u2019t need to do anything to create the `spam.pyc` file. Whenever `spam.py` is successfully compiled, an attempt is made to write the compiled version to `spam.pyc`. It is not an error if this attempt fails; if for any reason the file is not written completely, the resulting `spam.pyc` file will be recognized as invalid and thus ignored later. The contents of the `spam.pyc` file are platform independent, so a Python module directory can be shared by machines of different architectures.\n",
      "\n",
      "**Some tips for experts:**\n",
      "\n",
      "* When the Python interpreter is invoked with the _-O_ flag, optimized code is generated and stored in `.pyo` files. The optimizer currently doesn\u2019t help much; it only removes `assert` statements. When _-O_ is used, all _bytecode_ is optimized; `.pyc` files are ignored and `.py` files are compiled to optimized bytecode.\n",
      "\n",
      "* Passing two _-O_ flags to the Python interpreter (_-OO_) will cause the bytecode compiler to perform optimizations that could in some rare cases result in malfunctioning programs. Currently only `__doc__` strings are removed from the bytecode, resulting in more compact `.pyo` files. Since some programs may rely on having these available, you should only use this option if you know what you\u2019re doing.\n",
      "\n",
      "* A program doesn\u2019t run any faster when it is read from a `.pyc` or `.pyo` file than when it is read from a `.py` file; the only thing that\u2019s faster about `.pyc` or `.pyo` files is the speed with which they are loaded.\n",
      "\n",
      "* When a script is run by giving its name on the command line, the bytecode for the script is never written to a `.pyc` or `.pyo` file. Thus, the startup time of a script may be reduced by moving most of its code to a module and having a small bootstrap script that imports that module. It is also possible to name a `.pyc` or `.pyo` file directly on the command line.\n",
      "\n",
      "* It is possible to have a file called `spam.pyc` (or `spam.pyo` when _-O_ is used) without a file `spam.py` for the same module. This can be used to distribute a library of Python code in a form that is moderately hard to reverse engineer.\n",
      "\n",
      "* The module `compileall` can create `.pyc` files (or `.pyo` files when _-O_ is used) for all modules in a directory.\n",
      "\n",
      "6.2. Standard Modules\n",
      "===\n",
      "Python comes with a library of standard modules, described in a separate document, the Python Library Reference (\u201cLibrary Reference\u201d hereafter). Some modules are built into the interpreter; these provide access to operations that are not part of the core of the language but are nevertheless built in, either for efficiency or to provide access to operating system primitives such as system calls. The set of such modules is a configuration option which also depends on the underlying platform. For example, the `winreg` module is only provided on Windows systems. One particular module deserves some attention: `sys`, which is built into every Python interpreter. The variables `sys.ps1` and `sys.ps2` define the strings used as primary and secondary prompts:"
     ]
    },
    {
     "cell_type": "code",
     "collapsed": false,
     "input": [],
     "language": "python",
     "metadata": {},
     "outputs": []
    }
   ],
   "metadata": {}
  }
 ]
}